{
  "nbformat": 4,
  "nbformat_minor": 0,
  "metadata": {
    "colab": {
      "provenance": [],
      "authorship_tag": "ABX9TyPySpobGa0toOP7ttX7d4nV",
      "include_colab_link": true
    },
    "kernelspec": {
      "name": "python3",
      "display_name": "Python 3"
    },
    "language_info": {
      "name": "python"
    }
  },
  "cells": [
    {
      "cell_type": "markdown",
      "metadata": {
        "id": "view-in-github",
        "colab_type": "text"
      },
      "source": [
        "<a href=\"https://colab.research.google.com/github/Yeunseok97/Data-analysis_machine_learning/blob/main/Numpy_review2.ipynb\" target=\"_parent\"><img src=\"https://colab.research.google.com/assets/colab-badge.svg\" alt=\"Open In Colab\"/></a>"
      ]
    },
    {
      "cell_type": "code",
      "execution_count": 3,
      "metadata": {
        "id": "dPxVZ-dVixjl"
      },
      "outputs": [],
      "source": [
        "import numpy as np\n",
        "def aryinfo(ary):\n",
        "    print(\"type-\", type(ary))\n",
        "    print(\"shape-\", ary.shape)\n",
        "    print(\"dimension -\", ary.ndim)\n",
        "    print(\"dtype -\", ary.dtype)\n",
        "    print()\n",
        "    print(\"data -\", ary)"
      ]
    },
    {
      "cell_type": "code",
      "source": [
        "ary = np.arange(0,12,1)\n",
        "aryinfo(ary)"
      ],
      "metadata": {
        "colab": {
          "base_uri": "https://localhost:8080/"
        },
        "id": "ESpFiQxbi46T",
        "outputId": "452375f6-cd6f-4c63-f5eb-e05f13e70058"
      },
      "execution_count": 4,
      "outputs": [
        {
          "output_type": "stream",
          "name": "stdout",
          "text": [
            "type- <class 'numpy.ndarray'>\n",
            "shape- (12,)\n",
            "dimension - 1\n",
            "dtype - int64\n",
            "\n",
            "data - [ 0  1  2  3  4  5  6  7  8  9 10 11]\n"
          ]
        }
      ]
    },
    {
      "cell_type": "code",
      "source": [
        "ary_reshape = ary.reshape(-1,4)\n",
        "aryinfo(ary_reshape)"
      ],
      "metadata": {
        "colab": {
          "base_uri": "https://localhost:8080/"
        },
        "id": "65Yu4rPsi1Pp",
        "outputId": "b47d8289-9d96-44f6-cb5f-51e510c9d285"
      },
      "execution_count": 6,
      "outputs": [
        {
          "output_type": "stream",
          "name": "stdout",
          "text": [
            "type- <class 'numpy.ndarray'>\n",
            "shape- (3, 4)\n",
            "dimension - 2\n",
            "dtype - int64\n",
            "\n",
            "data - [[ 0  1  2  3]\n",
            " [ 4  5  6  7]\n",
            " [ 8  9 10 11]]\n"
          ]
        }
      ]
    },
    {
      "cell_type": "code",
      "source": [
        "ary_reshape = ary.reshape(2,2,3)\n",
        "aryinfo(ary_reshape)"
      ],
      "metadata": {
        "colab": {
          "base_uri": "https://localhost:8080/"
        },
        "id": "oAgF65oti1SC",
        "outputId": "88d7d1fe-5159-4b8b-cc86-9fb32478a894"
      },
      "execution_count": 7,
      "outputs": [
        {
          "output_type": "stream",
          "name": "stdout",
          "text": [
            "type- <class 'numpy.ndarray'>\n",
            "shape- (2, 2, 3)\n",
            "dimension - 3\n",
            "dtype - int64\n",
            "\n",
            "data - [[[ 0  1  2]\n",
            "  [ 3  4  5]]\n",
            "\n",
            " [[ 6  7  8]\n",
            "  [ 9 10 11]]]\n"
          ]
        }
      ]
    },
    {
      "cell_type": "code",
      "source": [],
      "metadata": {
        "id": "Opv_3mvUi1Uc"
      },
      "execution_count": null,
      "outputs": []
    },
    {
      "cell_type": "markdown",
      "source": [
        "#### 배열 병합(연결)\n",
        "hstack vstack, dstack, stack, r_[], c_[], tile\n"
      ],
      "metadata": {
        "id": "WUZz3TesjNS2"
      }
    },
    {
      "cell_type": "code",
      "source": [
        "print(\"hstack\")\n",
        "print(\"행의 수가 같아야함.\")"
      ],
      "metadata": {
        "id": "gjozjaH7i1YN"
      },
      "execution_count": null,
      "outputs": []
    },
    {
      "cell_type": "code",
      "source": [
        "ary_one = np.ones((2,2))\n",
        "print(ary_one)\n",
        "\n",
        "ary_zeros = np.zeros((2,3))\n",
        "print(ary_zeros)\n",
        "\n",
        "hstack = np.hstack([ary_one, ary_zeros])\n",
        "print(hstack)"
      ],
      "metadata": {
        "colab": {
          "base_uri": "https://localhost:8080/"
        },
        "id": "jOyn9Lhvi1Y_",
        "outputId": "bc189057-322a-486c-a6b4-e03661f61300"
      },
      "execution_count": 14,
      "outputs": [
        {
          "output_type": "stream",
          "name": "stdout",
          "text": [
            "[[1. 1.]\n",
            " [1. 1.]]\n",
            "[[0. 0. 0.]\n",
            " [0. 0. 0.]]\n",
            "[[1. 1. 0. 0. 0.]\n",
            " [1. 1. 0. 0. 0.]]\n"
          ]
        }
      ]
    },
    {
      "cell_type": "code",
      "source": [
        "print(\"vstack\")\n",
        "print(\"열의 수가 같아야함.\")"
      ],
      "metadata": {
        "id": "FYcYgL6oi1bZ"
      },
      "execution_count": null,
      "outputs": []
    },
    {
      "cell_type": "code",
      "source": [
        "ary_one = np.ones((3,3))\n",
        "ary_zeros = np.zeros((1,3))\n",
        "vstack = np.vstack([ary_one, ary_zeros])\n",
        "print(vstack)"
      ],
      "metadata": {
        "colab": {
          "base_uri": "https://localhost:8080/"
        },
        "id": "fHHYdX68i1d2",
        "outputId": "1ce93d37-4757-4e80-a470-886524a67286"
      },
      "execution_count": 20,
      "outputs": [
        {
          "output_type": "stream",
          "name": "stdout",
          "text": [
            "[[1. 1. 1.]\n",
            " [1. 1. 1.]\n",
            " [1. 1. 1.]\n",
            " [0. 0. 0.]]\n"
          ]
        }
      ]
    },
    {
      "cell_type": "code",
      "source": [
        "print(\"dstack\")\n",
        "print(\"열과 행이 모두 같아야 깊이 탐색이 된다.\")\n",
        "\n"
      ],
      "metadata": {
        "colab": {
          "base_uri": "https://localhost:8080/"
        },
        "id": "iwx7CnUFi1gj",
        "outputId": "9ed1dbca-2b33-4a27-c302-b4e81e6548f7"
      },
      "execution_count": 21,
      "outputs": [
        {
          "output_type": "stream",
          "name": "stdout",
          "text": [
            "dstack\n",
            "열과 행이 모두 같아야 깊이 탐색이 된다.\n"
          ]
        }
      ]
    },
    {
      "cell_type": "code",
      "source": [
        "ary_one = np.ones((3,3))\n",
        "ary_zeros = np.zeros((3,3))\n",
        "dstack = np.dstack([ary_one, ary_zeros])\n",
        "print(dstack)"
      ],
      "metadata": {
        "colab": {
          "base_uri": "https://localhost:8080/"
        },
        "id": "f5B2ZRVei1ip",
        "outputId": "7c177daa-fed6-428a-ba94-74628ea58065"
      },
      "execution_count": 25,
      "outputs": [
        {
          "output_type": "stream",
          "name": "stdout",
          "text": [
            "[[[1. 0.]\n",
            "  [1. 0.]\n",
            "  [1. 0.]]\n",
            "\n",
            " [[1. 0.]\n",
            "  [1. 0.]\n",
            "  [1. 0.]]\n",
            "\n",
            " [[1. 0.]\n",
            "  [1. 0.]\n",
            "  [1. 0.]]]\n"
          ]
        }
      ]
    },
    {
      "cell_type": "code",
      "source": [
        "aryinfo(np.r_[np.array([1,2,3]), np.array([4,5,6])])"
      ],
      "metadata": {
        "colab": {
          "base_uri": "https://localhost:8080/"
        },
        "id": "xzazZytUi1lG",
        "outputId": "9dfa672f-64d1-4500-a45b-1ef082965ffa"
      },
      "execution_count": 26,
      "outputs": [
        {
          "output_type": "stream",
          "name": "stdout",
          "text": [
            "type- <class 'numpy.ndarray'>\n",
            "shape- (6,)\n",
            "dimension - 1\n",
            "dtype - int64\n",
            "\n",
            "data - [1 2 3 4 5 6]\n"
          ]
        }
      ]
    },
    {
      "cell_type": "code",
      "source": [
        "aryinfo(np.c_[np.array([1,2,3]),np.array([4,5,6])])"
      ],
      "metadata": {
        "colab": {
          "base_uri": "https://localhost:8080/"
        },
        "id": "vFzKyIFmi1nb",
        "outputId": "c93f53b4-c0b0-4ce0-c9e0-44de650f279a"
      },
      "execution_count": 31,
      "outputs": [
        {
          "output_type": "stream",
          "name": "stdout",
          "text": [
            "type- <class 'numpy.ndarray'>\n",
            "shape- (3, 2)\n",
            "dimension - 2\n",
            "dtype - int64\n",
            "\n",
            "data - [[1 4]\n",
            " [2 5]\n",
            " [3 6]]\n"
          ]
        }
      ]
    },
    {
      "cell_type": "code",
      "source": [
        "print(\"tile = 동일한 배열을 반복해서 연결- 마지막 () 왼쪽놈이 행 다음놈이 열\")"
      ],
      "metadata": {
        "colab": {
          "base_uri": "https://localhost:8080/"
        },
        "id": "YZmdOdxti1p1",
        "outputId": "c51b998e-59b9-425f-9e80-4df8d94f84e8"
      },
      "execution_count": 32,
      "outputs": [
        {
          "output_type": "stream",
          "name": "stdout",
          "text": [
            "tile = 동일한 배열을 반복해서 연결- 마지막 () 왼쪽놈이 행 다음놈이 열\n"
          ]
        }
      ]
    },
    {
      "cell_type": "code",
      "source": [
        "aryinfo(np.tile(np.array([[[1,2,3],[4,5,6]],[[6,7,8],[9,10,11]]]),(2,2,2)))"
      ],
      "metadata": {
        "colab": {
          "base_uri": "https://localhost:8080/"
        },
        "id": "sGeA7XHei1sQ",
        "outputId": "6fc32303-c984-4d6c-a1f7-8f0ff3ebf5f9"
      },
      "execution_count": 36,
      "outputs": [
        {
          "output_type": "stream",
          "name": "stdout",
          "text": [
            "type- <class 'numpy.ndarray'>\n",
            "shape- (4, 4, 6)\n",
            "dimension - 3\n",
            "dtype - int64\n",
            "\n",
            "data - [[[ 1  2  3  1  2  3]\n",
            "  [ 4  5  6  4  5  6]\n",
            "  [ 1  2  3  1  2  3]\n",
            "  [ 4  5  6  4  5  6]]\n",
            "\n",
            " [[ 6  7  8  6  7  8]\n",
            "  [ 9 10 11  9 10 11]\n",
            "  [ 6  7  8  6  7  8]\n",
            "  [ 9 10 11  9 10 11]]\n",
            "\n",
            " [[ 1  2  3  1  2  3]\n",
            "  [ 4  5  6  4  5  6]\n",
            "  [ 1  2  3  1  2  3]\n",
            "  [ 4  5  6  4  5  6]]\n",
            "\n",
            " [[ 6  7  8  6  7  8]\n",
            "  [ 9 10 11  9 10 11]\n",
            "  [ 6  7  8  6  7  8]\n",
            "  [ 9 10 11  9 10 11]]]\n"
          ]
        }
      ]
    },
    {
      "cell_type": "code",
      "source": [
        "# 위 결과가 나올 수 있도록 함수를 이용하여 작성해 보세요~~~\n",
        "# array([[   0.,    0.,    0.,    1.,    1.],\n",
        "#        [   0.,    0.,    0.,    1.,    1.],\n",
        "#        [   0.,    0.,    0.,    1.,    1.],\n",
        "#        [  10.,   20.,   30.,   40.,   50.],\n",
        "#        [  60.,   70.,   80.,   90.,  100.],\n",
        "#        [ 110.,  120.,  130.,  140.,  150.],\n",
        "\n",
        "#        [   0.,    0.,    0.,    1.,    1.],\n",
        "#        [   0.,    0.,    0.,    1.,    1.],\n",
        "#        [   0.,    0.,    0.,    1.,    1.],\n",
        "#        [  10.,   20.,   30.,   40.,   50.],\n",
        "#        [  60.,   70.,   80.,   90.,  100.],\n",
        "#        [ 110.,  120.,  130.,  140.,  150.]])\n"
      ],
      "metadata": {
        "id": "t33GKnN5i1un"
      },
      "execution_count": null,
      "outputs": []
    },
    {
      "cell_type": "code",
      "source": [
        "ary_zeros = np.zeros((3,3))\n",
        "ary_ones = np.ones((3,2))\n",
        "a = np.arange(10,151,10)\n",
        "b = a.reshape(3,5)\n",
        "print(b)\n",
        "\n",
        "ary_hstack = np.hstack([ary_zeros, ary_ones])\n",
        "print(ary_hstack)\n",
        "ary_vstack = np.vstack([ary_hstack,b])\n",
        "print()\n",
        "print(ary_vstack)"
      ],
      "metadata": {
        "colab": {
          "base_uri": "https://localhost:8080/"
        },
        "id": "_gceHUbVi1xd",
        "outputId": "04a0eee7-1309-44b3-c103-cbc2d76c6c1b"
      },
      "execution_count": 43,
      "outputs": [
        {
          "output_type": "stream",
          "name": "stdout",
          "text": [
            "[[ 10  20  30  40  50]\n",
            " [ 60  70  80  90 100]\n",
            " [110 120 130 140 150]]\n",
            "[[0. 0. 0. 1. 1.]\n",
            " [0. 0. 0. 1. 1.]\n",
            " [0. 0. 0. 1. 1.]]\n",
            "\n",
            "[[  0.   0.   0.   1.   1.]\n",
            " [  0.   0.   0.   1.   1.]\n",
            " [  0.   0.   0.   1.   1.]\n",
            " [ 10.  20.  30.  40.  50.]\n",
            " [ 60.  70.  80.  90. 100.]\n",
            " [110. 120. 130. 140. 150.]]\n"
          ]
        }
      ]
    },
    {
      "cell_type": "code",
      "source": [],
      "metadata": {
        "id": "ErmT-OJSi1zz"
      },
      "execution_count": null,
      "outputs": []
    },
    {
      "cell_type": "markdown",
      "source": [
        "#### delete function\n"
      ],
      "metadata": {
        "id": "MygZonNvn-lu"
      }
    },
    {
      "cell_type": "code",
      "source": [
        "ary = np.random.randint(0,10,(3,4))\n",
        "aryinfo(ary)"
      ],
      "metadata": {
        "colab": {
          "base_uri": "https://localhost:8080/"
        },
        "id": "82HpJa0si12L",
        "outputId": "bdec837f-c49e-4cf6-a271-d440d0277537"
      },
      "execution_count": 44,
      "outputs": [
        {
          "output_type": "stream",
          "name": "stdout",
          "text": [
            "type- <class 'numpy.ndarray'>\n",
            "shape- (3, 4)\n",
            "dimension - 2\n",
            "dtype - int64\n",
            "\n",
            "data - [[5 4 4 7]\n",
            " [2 8 5 4]\n",
            " [1 7 8 5]]\n"
          ]
        }
      ]
    },
    {
      "cell_type": "code",
      "source": [
        "ary_delete = np.delete(ary, 2, axis = 1)\n",
        "aryinfo(ary_delete)"
      ],
      "metadata": {
        "colab": {
          "base_uri": "https://localhost:8080/"
        },
        "id": "KZuCQ3iPi146",
        "outputId": "f8597a4b-27b1-4452-9b7f-fe9e6de6fdc6"
      },
      "execution_count": 47,
      "outputs": [
        {
          "output_type": "stream",
          "name": "stdout",
          "text": [
            "type- <class 'numpy.ndarray'>\n",
            "shape- (3, 3)\n",
            "dimension - 2\n",
            "dtype - int64\n",
            "\n",
            "data - [[5 4 7]\n",
            " [2 8 4]\n",
            " [1 7 5]]\n"
          ]
        }
      ]
    },
    {
      "cell_type": "markdown",
      "source": [
        "#### 배열의 연산"
      ],
      "metadata": {
        "id": "msu9hGpRoimV"
      }
    },
    {
      "cell_type": "code",
      "source": [
        "%%time \n",
        "x = np.arange(1, 10001)\n",
        "y = np.arange(10001, 20001)\n",
        "z = np.zeros_like(x)\n",
        "\n",
        "for i in range(10000):\n",
        "    z[i] = x[i] + y[i]"
      ],
      "metadata": {
        "colab": {
          "base_uri": "https://localhost:8080/"
        },
        "id": "NI8DEy8Bi17Y",
        "outputId": "26081c93-94ad-4853-872b-10c1f0a09b6a"
      },
      "execution_count": 48,
      "outputs": [
        {
          "output_type": "stream",
          "name": "stdout",
          "text": [
            "CPU times: user 7.55 ms, sys: 0 ns, total: 7.55 ms\n",
            "Wall time: 9.56 ms\n"
          ]
        }
      ]
    },
    {
      "cell_type": "code",
      "source": [
        "print(\"비교연산\")\n",
        "tmpX = np.array([1,2,3,4])\n",
        "tmpY = np.array([5,2,6,4])\n",
        "tmpZ = np.array([1,2,3,4])\n",
        "\n",
        "print(tmpX ==tmpY )\n",
        "print(tmpX >=tmpY )\n",
        "\n",
        "print(np.all(tmpX==tmpY))"
      ],
      "metadata": {
        "colab": {
          "base_uri": "https://localhost:8080/"
        },
        "id": "EOl6TOWCi191",
        "outputId": "7e8208c4-b00a-4625-a7f4-3059132444ff"
      },
      "execution_count": 51,
      "outputs": [
        {
          "output_type": "stream",
          "name": "stdout",
          "text": [
            "비교연산\n",
            "[False  True False  True]\n",
            "[False  True False  True]\n",
            "False\n"
          ]
        }
      ]
    },
    {
      "cell_type": "code",
      "source": [
        "ary = np.arange(10)\n",
        "print(\"벡터연산 - \", ary * 10)"
      ],
      "metadata": {
        "colab": {
          "base_uri": "https://localhost:8080/"
        },
        "id": "3yF-tMEJi1_2",
        "outputId": "f101043b-4cb4-4cd3-b0cd-00c80d92e23c"
      },
      "execution_count": 55,
      "outputs": [
        {
          "output_type": "stream",
          "name": "stdout",
          "text": [
            "벡터연산 -  [ 0 10 20 30 40 50 60 70 80 90]\n"
          ]
        }
      ]
    },
    {
      "cell_type": "code",
      "source": [
        "ary = np.arange(12).reshape(3,4)\n",
        "print(ary*100)"
      ],
      "metadata": {
        "colab": {
          "base_uri": "https://localhost:8080/"
        },
        "id": "66mQ3grii2CR",
        "outputId": "b00dbcfb-c36a-4217-91c3-31615ed79b18"
      },
      "execution_count": 57,
      "outputs": [
        {
          "output_type": "stream",
          "name": "stdout",
          "text": [
            "[[   0  100  200  300]\n",
            " [ 400  500  600  700]\n",
            " [ 800  900 1000 1100]]\n"
          ]
        }
      ]
    },
    {
      "cell_type": "code",
      "source": [
        "X = np.vstack([range(7)[idx:idx+3]for idx in range(5)])\n",
        "print(X)"
      ],
      "metadata": {
        "colab": {
          "base_uri": "https://localhost:8080/"
        },
        "id": "haDc1KaKi2Ev",
        "outputId": "050c2321-cafe-4024-c2ec-f3b12437cff4"
      },
      "execution_count": 58,
      "outputs": [
        {
          "output_type": "stream",
          "name": "stdout",
          "text": [
            "[[0 1 2]\n",
            " [1 2 3]\n",
            " [2 3 4]\n",
            " [3 4 5]\n",
            " [4 5 6]]\n"
          ]
        }
      ]
    },
    {
      "cell_type": "code",
      "source": [
        "X = np.vstack([range(7)[idx: idx+3] for idx in range(5)])\n",
        "print(X)"
      ],
      "metadata": {
        "colab": {
          "base_uri": "https://localhost:8080/"
        },
        "id": "TSLqWpV-i2HG",
        "outputId": "ebf3dd87-979e-48cc-9790-d5014a92bf94"
      },
      "execution_count": 62,
      "outputs": [
        {
          "output_type": "stream",
          "name": "stdout",
          "text": [
            "[[0 1 2]\n",
            " [1 2 3]\n",
            " [2 3 4]\n",
            " [3 4 5]\n",
            " [4 5 6]]\n"
          ]
        }
      ]
    },
    {
      "cell_type": "code",
      "source": [
        "y = np.arange(5).reshape(1,5)\n",
        "print(y)\n",
        "\n",
        "\n"
      ],
      "metadata": {
        "colab": {
          "base_uri": "https://localhost:8080/"
        },
        "id": "s8fuSf-9i2Jj",
        "outputId": "c6c497b2-be2f-4af8-90b9-f698ad909201"
      },
      "execution_count": 66,
      "outputs": [
        {
          "output_type": "stream",
          "name": "stdout",
          "text": [
            "[[0 1 2 3 4]]\n"
          ]
        }
      ]
    },
    {
      "cell_type": "code",
      "source": [],
      "metadata": {
        "id": "ML0lRk32i2L8"
      },
      "execution_count": null,
      "outputs": []
    },
    {
      "cell_type": "markdown",
      "source": [
        "#### 차원축소 연산\n",
        "- min, max\n",
        "- argmin, argmax -> \n",
        "- sum, min"
      ],
      "metadata": {
        "id": "N0VT75_7qM9H"
      }
    },
    {
      "cell_type": "code",
      "source": [
        "X = np.array([1,2,3,4,5])\n",
        "print(\"vector value- \",X)"
      ],
      "metadata": {
        "colab": {
          "base_uri": "https://localhost:8080/"
        },
        "id": "GW1AJLwxi2OZ",
        "outputId": "82b8d264-c310-48d3-d221-3d8332a7257e"
      },
      "execution_count": 69,
      "outputs": [
        {
          "output_type": "stream",
          "name": "stdout",
          "text": [
            "vector value-  [1 2 3 4 5]\n"
          ]
        }
      ]
    },
    {
      "cell_type": "code",
      "source": [
        "print(\"sum-\", np.sum(X))\n",
        "print(\"sum-\", X.sum())"
      ],
      "metadata": {
        "colab": {
          "base_uri": "https://localhost:8080/"
        },
        "id": "AiUoa21Ci2Qv",
        "outputId": "01807319-2583-48c7-cf99-7e18523c73b2"
      },
      "execution_count": 70,
      "outputs": [
        {
          "output_type": "stream",
          "name": "stdout",
          "text": [
            "sum- 15\n",
            "sum- 15\n"
          ]
        }
      ]
    },
    {
      "cell_type": "code",
      "source": [
        "print(\"min -\", X.min())\n",
        "print(np.min(X))\n",
        "\n",
        "print(\"max-\", np.max(X))\n",
        "print(\"max -\", X.max())"
      ],
      "metadata": {
        "colab": {
          "base_uri": "https://localhost:8080/"
        },
        "id": "cQ0UJmHOi2TN",
        "outputId": "26736747-d76d-45e1-adb7-1b43d57352e5"
      },
      "execution_count": 74,
      "outputs": [
        {
          "output_type": "stream",
          "name": "stdout",
          "text": [
            "min - 1\n",
            "1\n",
            "max- 5\n",
            "max - 5\n"
          ]
        }
      ]
    },
    {
      "cell_type": "code",
      "source": [
        "print(\"argmin -index\")\n",
        "print(\"min -\",np.argmin(X))\n",
        "print(\"min -\", X.argmin())"
      ],
      "metadata": {
        "colab": {
          "base_uri": "https://localhost:8080/"
        },
        "id": "Ht1vyiTqi2Vj",
        "outputId": "6e5dfdf7-1e6a-4974-f64e-e2b2b593df9f"
      },
      "execution_count": 76,
      "outputs": [
        {
          "output_type": "stream",
          "name": "stdout",
          "text": [
            "argmin -index\n",
            "min - 0\n",
            "min - 0\n"
          ]
        }
      ]
    },
    {
      "cell_type": "code",
      "source": [
        "print(\"argmax -index\")\n",
        "print(\"max -\", np.argmax(X))\n",
        "print(\"max -\", X.argmax())"
      ],
      "metadata": {
        "colab": {
          "base_uri": "https://localhost:8080/"
        },
        "id": "YmN4xiVki2X5",
        "outputId": "20fa0b1e-3861-4537-fbbb-848598ccdde5"
      },
      "execution_count": 77,
      "outputs": [
        {
          "output_type": "stream",
          "name": "stdout",
          "text": [
            "argmax -index\n",
            "max - 4\n",
            "max - 4\n"
          ]
        }
      ]
    },
    {
      "cell_type": "code",
      "source": [
        "print(\"mean -\")\n",
        "print(\"max -\", np.mean(X))\n",
        "print(\"max -\", X.mean())"
      ],
      "metadata": {
        "colab": {
          "base_uri": "https://localhost:8080/"
        },
        "id": "-dcRYxoHi2aY",
        "outputId": "4fbfbe61-1bd9-4263-e556-8e1ffd55e892"
      },
      "execution_count": 78,
      "outputs": [
        {
          "output_type": "stream",
          "name": "stdout",
          "text": [
            "mean -\n",
            "max - 3.0\n",
            "max - 3.0\n"
          ]
        }
      ]
    },
    {
      "cell_type": "code",
      "source": [
        "print()\n",
        "print(\"median -\", np.median(X))"
      ],
      "metadata": {
        "colab": {
          "base_uri": "https://localhost:8080/"
        },
        "id": "FAf4zbjqi2cv",
        "outputId": "9b1a2060-60f4-46a4-d7fa-57687e7ce98e"
      },
      "execution_count": 79,
      "outputs": [
        {
          "output_type": "stream",
          "name": "stdout",
          "text": [
            "\n",
            "median - 3.0\n"
          ]
        }
      ]
    },
    {
      "cell_type": "code",
      "source": [
        "ary_zero = np.zeros((3,3))"
      ],
      "metadata": {
        "id": "Qz4mIAmbi2fM"
      },
      "execution_count": 83,
      "outputs": []
    },
    {
      "cell_type": "code",
      "source": [
        "np.any(ary_zero!=0)"
      ],
      "metadata": {
        "colab": {
          "base_uri": "https://localhost:8080/"
        },
        "id": "eNbHhqKFu1nM",
        "outputId": "a8e203ad-ee68-4bb4-b54a-55141195553a"
      },
      "execution_count": 84,
      "outputs": [
        {
          "output_type": "execute_result",
          "data": {
            "text/plain": [
              "False"
            ]
          },
          "metadata": {},
          "execution_count": 84
        }
      ]
    },
    {
      "cell_type": "code",
      "source": [
        "np.all(ary_zero ==ary_zero)"
      ],
      "metadata": {
        "colab": {
          "base_uri": "https://localhost:8080/"
        },
        "id": "AO7EFtEJi2h7",
        "outputId": "276d340f-8849-4c99-d49e-6c6c572461da"
      },
      "execution_count": 85,
      "outputs": [
        {
          "output_type": "execute_result",
          "data": {
            "text/plain": [
              "True"
            ]
          },
          "metadata": {},
          "execution_count": 85
        }
      ]
    },
    {
      "cell_type": "markdown",
      "source": [
        "- 만약 연산의 대상이 2차원 행렬이면?\n",
        "- axis 축의 방향을 설정해야한다."
      ],
      "metadata": {
        "id": "UsdZVrcXu9qZ"
      }
    },
    {
      "cell_type": "code",
      "source": [
        "ary = np.arange(1, 21, 1).reshape(4, -1)\n",
        "ary"
      ],
      "metadata": {
        "colab": {
          "base_uri": "https://localhost:8080/"
        },
        "id": "jSn-cU-Ri2kA",
        "outputId": "32378859-e820-44bb-8116-97597de51d60"
      },
      "execution_count": 86,
      "outputs": [
        {
          "output_type": "execute_result",
          "data": {
            "text/plain": [
              "array([[ 1,  2,  3,  4,  5],\n",
              "       [ 6,  7,  8,  9, 10],\n",
              "       [11, 12, 13, 14, 15],\n",
              "       [16, 17, 18, 19, 20]])"
            ]
          },
          "metadata": {},
          "execution_count": 86
        }
      ]
    },
    {
      "cell_type": "code",
      "source": [
        "ary = np.arange(1,21,1).reshape(4,-1)\n",
        "print(ary)"
      ],
      "metadata": {
        "colab": {
          "base_uri": "https://localhost:8080/"
        },
        "id": "q3zjNHoLi2mw",
        "outputId": "92abdcaa-0965-468b-d07c-c8717eac9f86"
      },
      "execution_count": 89,
      "outputs": [
        {
          "output_type": "stream",
          "name": "stdout",
          "text": [
            "[[ 1  2  3  4  5]\n",
            " [ 6  7  8  9 10]\n",
            " [11 12 13 14 15]\n",
            " [16 17 18 19 20]]\n"
          ]
        }
      ]
    },
    {
      "cell_type": "code",
      "source": [
        "print(\"matrix sum()\")\n",
        "print(\"matrix sum-\", np.sum(ary, axis = 0))\n",
        "print(\"열방향의 sum\")\n",
        "print()"
      ],
      "metadata": {
        "colab": {
          "base_uri": "https://localhost:8080/"
        },
        "id": "PBEoNDCai2pN",
        "outputId": "dddb525a-2bb4-4944-c1f6-006a86add98c"
      },
      "execution_count": 91,
      "outputs": [
        {
          "output_type": "stream",
          "name": "stdout",
          "text": [
            "matrix sum()\n",
            "matrix sum- [34 38 42 46 50]\n",
            "열방향의 sum\n",
            "\n"
          ]
        }
      ]
    },
    {
      "cell_type": "code",
      "source": [
        "print(\"matrix argmax -\", ary.sum(axis = 1))\n",
        "print(\"행방향의 sum\")"
      ],
      "metadata": {
        "colab": {
          "base_uri": "https://localhost:8080/"
        },
        "id": "EmotGI-ti2rs",
        "outputId": "02add0ec-fbed-4f0b-a0df-06874049a63e"
      },
      "execution_count": 94,
      "outputs": [
        {
          "output_type": "stream",
          "name": "stdout",
          "text": [
            "matrix argmax - [15 40 65 90]\n",
            "행방향의 sum\n"
          ]
        }
      ]
    },
    {
      "cell_type": "code",
      "source": [
        "print(\"arming - index \")\n",
        "print(\"matrix argmax-\", np.argmax(ary, axis = 1))\n",
        "print(\"matrix sum -\", ary.sum(axis=1))"
      ],
      "metadata": {
        "colab": {
          "base_uri": "https://localhost:8080/"
        },
        "id": "1o8x5fBTwDJH",
        "outputId": "e1f809ad-2550-4a2e-b91f-5555eeccdaa7"
      },
      "execution_count": 98,
      "outputs": [
        {
          "output_type": "stream",
          "name": "stdout",
          "text": [
            "arming - index \n",
            "matrix argmax- [4 4 4 4]\n",
            "matrix sum - [15 40 65 90]\n"
          ]
        }
      ]
    },
    {
      "cell_type": "code",
      "source": [
        "print(\"argmin - index\")\n",
        "print(\"matrix argmin-\", np.argmin(ary, axis = 1))\n",
        "print(\"matrix argmax-\", np.argmax(ary, axis = 1))"
      ],
      "metadata": {
        "colab": {
          "base_uri": "https://localhost:8080/"
        },
        "id": "nKVIiFJMwDMa",
        "outputId": "3f506071-721d-4520-f321-e71bcaab73d9"
      },
      "execution_count": 99,
      "outputs": [
        {
          "output_type": "stream",
          "name": "stdout",
          "text": [
            "argmin - index\n",
            "matrix argmin- [0 0 0 0]\n",
            "matrix argmax- [4 4 4 4]\n"
          ]
        }
      ]
    },
    {
      "cell_type": "code",
      "source": [
        "ary = np.random.randint(1, 10000000, (5,6))\n",
        "ary"
      ],
      "metadata": {
        "colab": {
          "base_uri": "https://localhost:8080/"
        },
        "id": "bZ9c_RqIwDPk",
        "outputId": "56b46d57-23c0-4cfd-c6b9-e3bcfc24f46d"
      },
      "execution_count": 101,
      "outputs": [
        {
          "output_type": "execute_result",
          "data": {
            "text/plain": [
              "array([[9494228, 7917330, 2327358,   76044, 8563521, 8273253],\n",
              "       [2342544, 2046889, 1299664, 4455871, 8376591, 3743701],\n",
              "       [1333702, 6436722, 1003924, 3033377, 7392705, 7548654],\n",
              "       [2176332, 3345650, 4454157, 1220968,  728213, 2633859],\n",
              "       [4362528,  206516, 9059232, 6306608, 5195668, 5131577]])"
            ]
          },
          "metadata": {},
          "execution_count": 101
        }
      ]
    },
    {
      "cell_type": "code",
      "source": [
        "#ary shape[i]는 행인지 열인지에 대한 인덱스임\n",
        "\n",
        "np.hstack([ary[idx].sum() for idx in range(ary.shape[0])])\n",
        "np.hstack([ary[idx].max() for idx in range(ary.shape[0])])\n",
        "np.hstack([ary[:, idx].mean() for idx in range(ary.shape[0])])\n",
        "np.hstack([ary[:, idx].min() for idx in range(ary.shape[0])])\n",
        "np.hstack([ary[:, idx].max() for idx in range(ary.shape[0])])"
      ],
      "metadata": {
        "colab": {
          "base_uri": "https://localhost:8080/"
        },
        "id": "lgWLTvrgxR-w",
        "outputId": "e001144e-b1ca-4ad8-b212-50b46caa785d"
      },
      "execution_count": 128,
      "outputs": [
        {
          "output_type": "execute_result",
          "data": {
            "text/plain": [
              "array([9494228, 7917330, 9059232, 6306608, 8563521])"
            ]
          },
          "metadata": {},
          "execution_count": 128
        }
      ]
    },
    {
      "cell_type": "code",
      "source": [
        "ary = np.random.randint(0,17, (4,4))\n",
        "ary"
      ],
      "metadata": {
        "colab": {
          "base_uri": "https://localhost:8080/"
        },
        "id": "7cvak83KxSCJ",
        "outputId": "f615ea38-09e9-482f-ff6d-7c7be0abf754"
      },
      "execution_count": 129,
      "outputs": [
        {
          "output_type": "execute_result",
          "data": {
            "text/plain": [
              "array([[13, 12, 12,  7],\n",
              "       [11, 12, 14, 10],\n",
              "       [ 4, 14, 10,  9],\n",
              "       [ 4,  6,  3, 13]])"
            ]
          },
          "metadata": {},
          "execution_count": 129
        }
      ]
    },
    {
      "cell_type": "code",
      "source": [
        "#행기준\n",
        "np.sort(ary, axis =1)"
      ],
      "metadata": {
        "colab": {
          "base_uri": "https://localhost:8080/"
        },
        "id": "alSaHCLmxSFd",
        "outputId": "6d535b81-fc06-4104-a77f-154e4113b9b1"
      },
      "execution_count": 130,
      "outputs": [
        {
          "output_type": "execute_result",
          "data": {
            "text/plain": [
              "array([[ 7, 12, 12, 13],\n",
              "       [10, 11, 12, 14],\n",
              "       [ 4,  9, 10, 14],\n",
              "       [ 3,  4,  6, 13]])"
            ]
          },
          "metadata": {},
          "execution_count": 130
        }
      ]
    },
    {
      "cell_type": "code",
      "source": [
        "#열기준\n",
        "print(np.sort(ary, axis =0))"
      ],
      "metadata": {
        "colab": {
          "base_uri": "https://localhost:8080/"
        },
        "id": "MabgpX54xSI_",
        "outputId": "8bc3375b-4d34-4fe8-b2a1-31d46731c430"
      },
      "execution_count": 131,
      "outputs": [
        {
          "output_type": "stream",
          "name": "stdout",
          "text": [
            "[[ 4  6  3  7]\n",
            " [ 4 12 10  9]\n",
            " [11 12 12 10]\n",
            " [13 14 14 13]]\n"
          ]
        }
      ]
    },
    {
      "cell_type": "code",
      "source": [
        "ary = np.array([4,3,5,7])\n",
        "ary"
      ],
      "metadata": {
        "colab": {
          "base_uri": "https://localhost:8080/"
        },
        "id": "P06c4rssxSMV",
        "outputId": "986cada2-e2fc-4808-9ced-42cfeea34596"
      },
      "execution_count": 132,
      "outputs": [
        {
          "output_type": "execute_result",
          "data": {
            "text/plain": [
              "array([4, 3, 5, 7])"
            ]
          },
          "metadata": {},
          "execution_count": 132
        }
      ]
    },
    {
      "cell_type": "code",
      "source": [
        "print(\"정렬된 인덱스를 필요로 한다면\")\n",
        "idx = np.argsort(ary)\n",
        "idx"
      ],
      "metadata": {
        "colab": {
          "base_uri": "https://localhost:8080/"
        },
        "id": "eJqio_5WxSPs",
        "outputId": "f2f393ec-a23f-465f-e21c-6c4ba2cb1514"
      },
      "execution_count": 133,
      "outputs": [
        {
          "output_type": "stream",
          "name": "stdout",
          "text": [
            "정렬된 인덱스를 필요로 한다면\n"
          ]
        },
        {
          "output_type": "execute_result",
          "data": {
            "text/plain": [
              "array([1, 0, 2, 3])"
            ]
          },
          "metadata": {},
          "execution_count": 133
        }
      ]
    },
    {
      "cell_type": "code",
      "source": [
        "ary[idx]"
      ],
      "metadata": {
        "colab": {
          "base_uri": "https://localhost:8080/"
        },
        "id": "ElvE27vwxSTO",
        "outputId": "01d6d9f6-7cc3-4f2d-fe63-6cb95936fe6d"
      },
      "execution_count": 134,
      "outputs": [
        {
          "output_type": "execute_result",
          "data": {
            "text/plain": [
              "array([3, 4, 5, 7])"
            ]
          },
          "metadata": {},
          "execution_count": 134
        }
      ]
    },
    {
      "cell_type": "code",
      "source": [
        "print(\"matrix sort-\")\n",
        "ary = np.random.randint(0, 17, (4,4))\n",
        "ary"
      ],
      "metadata": {
        "colab": {
          "base_uri": "https://localhost:8080/"
        },
        "id": "WwGpTqLDxSWs",
        "outputId": "167548a6-0237-486d-a287-e7d1005c81a3"
      },
      "execution_count": 135,
      "outputs": [
        {
          "output_type": "stream",
          "name": "stdout",
          "text": [
            "matrix sort-\n"
          ]
        },
        {
          "output_type": "execute_result",
          "data": {
            "text/plain": [
              "array([[ 1, 12, 13,  3],\n",
              "       [15, 14,  4,  1],\n",
              "       [ 0,  7,  1,  0],\n",
              "       [ 7, 12, 13,  9]])"
            ]
          },
          "metadata": {},
          "execution_count": 135
        }
      ]
    },
    {
      "cell_type": "code",
      "source": [
        "ary[0].argsort()"
      ],
      "metadata": {
        "colab": {
          "base_uri": "https://localhost:8080/"
        },
        "id": "k--U70RFxSaH",
        "outputId": "db50d8cd-87a9-41e9-9ba7-b510931330ad"
      },
      "execution_count": 136,
      "outputs": [
        {
          "output_type": "execute_result",
          "data": {
            "text/plain": [
              "array([0, 3, 1, 2])"
            ]
          },
          "metadata": {},
          "execution_count": 136
        }
      ]
    },
    {
      "cell_type": "code",
      "source": [
        "ary_row = np.array([7,8,9])\n",
        "ary_row"
      ],
      "metadata": {
        "colab": {
          "base_uri": "https://localhost:8080/"
        },
        "id": "0JVA4dp9xSd0",
        "outputId": "16008c3e-1a1b-460c-a05b-ed38bc84aa7a"
      },
      "execution_count": 137,
      "outputs": [
        {
          "output_type": "execute_result",
          "data": {
            "text/plain": [
              "array([7, 8, 9])"
            ]
          },
          "metadata": {},
          "execution_count": 137
        }
      ]
    },
    {
      "cell_type": "code",
      "source": [
        "ary_new = np.concatenate(ary,)"
      ],
      "metadata": {
        "id": "UUBLl6Q8xShT"
      },
      "execution_count": 138,
      "outputs": []
    },
    {
      "cell_type": "code",
      "source": [
        "ary_row.reshape(1,3)"
      ],
      "metadata": {
        "colab": {
          "base_uri": "https://localhost:8080/"
        },
        "id": "sc2o2Ww6wDSr",
        "outputId": "7d4391ca-24bc-4439-ea6c-11fc3c4e5f20"
      },
      "execution_count": 139,
      "outputs": [
        {
          "output_type": "execute_result",
          "data": {
            "text/plain": [
              "array([[7, 8, 9]])"
            ]
          },
          "metadata": {},
          "execution_count": 139
        }
      ]
    },
    {
      "cell_type": "code",
      "source": [],
      "metadata": {
        "id": "7bb_j5MkwDWA"
      },
      "execution_count": 94,
      "outputs": []
    },
    {
      "cell_type": "code",
      "source": [],
      "metadata": {
        "id": "tSXmZOUnwDZi"
      },
      "execution_count": 94,
      "outputs": []
    },
    {
      "cell_type": "code",
      "source": [],
      "metadata": {
        "id": "oBAqiV8gwDcr"
      },
      "execution_count": 94,
      "outputs": []
    },
    {
      "cell_type": "code",
      "source": [],
      "metadata": {
        "id": "8iUTFH3kwDfx"
      },
      "execution_count": null,
      "outputs": []
    }
  ]
}