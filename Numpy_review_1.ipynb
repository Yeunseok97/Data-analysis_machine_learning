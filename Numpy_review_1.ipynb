{
  "nbformat": 4,
  "nbformat_minor": 0,
  "metadata": {
    "colab": {
      "provenance": [],
      "authorship_tag": "ABX9TyMHa01Nppn2SEHUPNGZYAw6",
      "include_colab_link": true
    },
    "kernelspec": {
      "name": "python3",
      "display_name": "Python 3"
    },
    "language_info": {
      "name": "python"
    }
  },
  "cells": [
    {
      "cell_type": "markdown",
      "metadata": {
        "id": "view-in-github",
        "colab_type": "text"
      },
      "source": [
        "<a href=\"https://colab.research.google.com/github/Yeunseok97/Data-analysis_machin_learning/blob/main/Numpy_review_1.ipynb\" target=\"_parent\"><img src=\"https://colab.research.google.com/assets/colab-badge.svg\" alt=\"Open In Colab\"/></a>"
      ]
    },
    {
      "cell_type": "markdown",
      "source": [
        "#### numpy 학습\n",
        "- 배열과 리스트의 차이\n",
        "- 배열생성 및 다루는 기법\n",
        "- 기술통계함수\n",
        "- 결과에 대한 분석방법"
      ],
      "metadata": {
        "id": "KjMG54Mv4Ts7"
      }
    },
    {
      "cell_type": "markdown",
      "source": [
        "### Array\n",
        "- 모든 원소가 같은 자료형이어야됨.\n",
        "- 원소의 갯수를 바꿀 수 없음\n",
        "- 배열의 차원, 크기, 타입(ndim, shape, dtype)\n",
        " \n"
      ],
      "metadata": {
        "id": "P4W7MPgM41oM"
      }
    },
    {
      "cell_type": "code",
      "source": [
        "import numpy as np\n",
        "np.__version__"
      ],
      "metadata": {
        "colab": {
          "base_uri": "https://localhost:8080/",
          "height": 35
        },
        "id": "DQHLPd_B4SP3",
        "outputId": "b2ccec84-4ce9-49d8-d2bc-007b70b55215"
      },
      "execution_count": 1,
      "outputs": [
        {
          "output_type": "execute_result",
          "data": {
            "text/plain": [
              "'1.22.4'"
            ],
            "application/vnd.google.colaboratory.intrinsic+json": {
              "type": "string"
            }
          },
          "metadata": {},
          "execution_count": 1
        }
      ]
    },
    {
      "cell_type": "code",
      "source": [
        "def aryinfo(ary):\n",
        "  print(\"type\", type(ary))\n",
        "  print(\"shape\", ary.shape)\n",
        "  print(\"dimension -\", ary.ndim)\n",
        "  print(\"dtype\",ary.dtype)\n",
        "  print()\n",
        "  print(\"data -\\n\", ary)\n"
      ],
      "metadata": {
        "id": "9VBvWKOY4SSS"
      },
      "execution_count": 2,
      "outputs": []
    },
    {
      "cell_type": "code",
      "source": [
        "oneAry = np.array([0,1,2,3,4,5,6,7,8,9])\n",
        "aryinfo(oneAry)"
      ],
      "metadata": {
        "colab": {
          "base_uri": "https://localhost:8080/"
        },
        "id": "gu7idL_D4SUt",
        "outputId": "f23df5f6-ab64-46d4-8fe0-39f0bfc77c7c"
      },
      "execution_count": 3,
      "outputs": [
        {
          "output_type": "stream",
          "name": "stdout",
          "text": [
            "type <class 'numpy.ndarray'>\n",
            "shape (10,)\n",
            "dimension - 1\n",
            "dtype int64\n",
            "\n",
            "data -\n",
            " [0 1 2 3 4 5 6 7 8 9]\n"
          ]
        }
      ]
    },
    {
      "cell_type": "markdown",
      "source": [
        "#### 벡터화연산 vectorized operation\n",
        "- 각 원소에 대한 반복연산을 하나의 명령어로 처리한 것\n",
        "- 비교, 산술, 논리연산을 포함하는 모든 수학연산에 적용됨."
      ],
      "metadata": {
        "id": "nRmaNNO15ar6"
      }
    },
    {
      "cell_type": "code",
      "source": [
        "data = [1,2,3,4,5,6,7,8]\n",
        "data *2"
      ],
      "metadata": {
        "colab": {
          "base_uri": "https://localhost:8080/"
        },
        "id": "N-qKBEwN4SXJ",
        "outputId": "46bb243e-0bb1-4b6c-cc53-66e33f6eb7c0"
      },
      "execution_count": 4,
      "outputs": [
        {
          "output_type": "execute_result",
          "data": {
            "text/plain": [
              "[1, 2, 3, 4, 5, 6, 7, 8, 1, 2, 3, 4, 5, 6, 7, 8]"
            ]
          },
          "metadata": {},
          "execution_count": 4
        }
      ]
    },
    {
      "cell_type": "code",
      "source": [
        "data = [1,2,3,4,5,6,7,8]\n",
        "result = []\n",
        "\n",
        "for d in data:\n",
        "  result.append(d*2)\n",
        "\n",
        "print(result)"
      ],
      "metadata": {
        "colab": {
          "base_uri": "https://localhost:8080/"
        },
        "id": "qSPKrWbx4SZi",
        "outputId": "5e5fde4d-0e3a-4554-81a3-5b3310ed4cb9"
      },
      "execution_count": 5,
      "outputs": [
        {
          "output_type": "stream",
          "name": "stdout",
          "text": [
            "[2, 4, 6, 8, 10, 12, 14, 16]\n"
          ]
        }
      ]
    },
    {
      "cell_type": "code",
      "source": [
        "result2 = [d*2 for d in data]\n",
        "print(result2)"
      ],
      "metadata": {
        "colab": {
          "base_uri": "https://localhost:8080/"
        },
        "id": "VYbU7djT4SdB",
        "outputId": "19315dad-5de9-4085-efc4-666418bfe720"
      },
      "execution_count": 6,
      "outputs": [
        {
          "output_type": "stream",
          "name": "stdout",
          "text": [
            "[2, 4, 6, 8, 10, 12, 14, 16]\n"
          ]
        }
      ]
    },
    {
      "cell_type": "code",
      "source": [
        "result3 = oneAry * 2\n",
        "print(result3)"
      ],
      "metadata": {
        "colab": {
          "base_uri": "https://localhost:8080/"
        },
        "id": "MP9CdKdE4SeV",
        "outputId": "337744db-9e72-4484-cb11-282b4b79b695"
      },
      "execution_count": 7,
      "outputs": [
        {
          "output_type": "stream",
          "name": "stdout",
          "text": [
            "[ 0  2  4  6  8 10 12 14 16 18]\n"
          ]
        }
      ]
    },
    {
      "cell_type": "code",
      "source": [
        "data01 = [1,2,3,4,5]\n",
        "data02 = [10,20,30,40,50]\n",
        "\n",
        "print(type(data01), type(data02))"
      ],
      "metadata": {
        "colab": {
          "base_uri": "https://localhost:8080/"
        },
        "id": "LfOu8eTB4Sgv",
        "outputId": "57361ba4-4ce6-4da6-ced3-c10ac0f234e6"
      },
      "execution_count": 8,
      "outputs": [
        {
          "output_type": "stream",
          "name": "stdout",
          "text": [
            "<class 'list'> <class 'list'>\n"
          ]
        }
      ]
    },
    {
      "cell_type": "markdown",
      "source": [
        "- array()함수를 이용해서 시퀀형을 넘파이의 배열로 타입을 변경할 수 있다."
      ],
      "metadata": {
        "id": "bW4XWqdW6aTe"
      }
    },
    {
      "cell_type": "code",
      "source": [
        "xAry = np.array(data01)\n",
        "yAry = np.array(data02)\n",
        "\n",
        "print(type(xAry), type(yAry))\n"
      ],
      "metadata": {
        "colab": {
          "base_uri": "https://localhost:8080/"
        },
        "id": "lln6oNiu4SjI",
        "outputId": "44d7987b-c437-455f-f0ef-8c9a0bc97efb"
      },
      "execution_count": 9,
      "outputs": [
        {
          "output_type": "stream",
          "name": "stdout",
          "text": [
            "<class 'numpy.ndarray'> <class 'numpy.ndarray'>\n"
          ]
        }
      ]
    },
    {
      "cell_type": "code",
      "source": [
        "# array 산술연산\n",
        "aryinfo(xAry + yAry)\n",
        "print()\n",
        "aryinfo(xAry * yAry)\n",
        "print()\n",
        "aryinfo(2 * xAry + yAry)"
      ],
      "metadata": {
        "colab": {
          "base_uri": "https://localhost:8080/"
        },
        "id": "BoT99bMQ4Slm",
        "outputId": "8a661f87-7c9a-40a2-b10f-6f896652451b"
      },
      "execution_count": 10,
      "outputs": [
        {
          "output_type": "stream",
          "name": "stdout",
          "text": [
            "type <class 'numpy.ndarray'>\n",
            "shape (5,)\n",
            "dimension - 1\n",
            "dtype int64\n",
            "\n",
            "data -\n",
            " [11 22 33 44 55]\n",
            "\n",
            "type <class 'numpy.ndarray'>\n",
            "shape (5,)\n",
            "dimension - 1\n",
            "dtype int64\n",
            "\n",
            "data -\n",
            " [ 10  40  90 160 250]\n",
            "\n",
            "type <class 'numpy.ndarray'>\n",
            "shape (5,)\n",
            "dimension - 1\n",
            "dtype int64\n",
            "\n",
            "data -\n",
            " [12 24 36 48 60]\n"
          ]
        }
      ]
    },
    {
      "cell_type": "code",
      "source": [
        "print(\"비교 연산 - boolean masking\")\n",
        "\n",
        "print(xAry ==2)\n",
        "print()\n",
        "aryinfo(xAry ==2)"
      ],
      "metadata": {
        "colab": {
          "base_uri": "https://localhost:8080/"
        },
        "id": "gRRNW2wQ4Sn_",
        "outputId": "a33c19fb-8755-4240-f4a7-0a73efd8e580"
      },
      "execution_count": 11,
      "outputs": [
        {
          "output_type": "stream",
          "name": "stdout",
          "text": [
            "비교 연산 - boolean masking\n",
            "[False  True False False False]\n",
            "\n",
            "type <class 'numpy.ndarray'>\n",
            "shape (5,)\n",
            "dimension - 1\n",
            "dtype bool\n",
            "\n",
            "data -\n",
            " [False  True False False False]\n"
          ]
        }
      ]
    },
    {
      "cell_type": "code",
      "source": [
        "print(\"비교연산 - boolean masking\")\n",
        "\n",
        "print(yAry > 10)\n",
        "print()\n",
        "aryinfo(yAry >10)"
      ],
      "metadata": {
        "colab": {
          "base_uri": "https://localhost:8080/"
        },
        "id": "V8GZIwHO4SqV",
        "outputId": "9d680eac-8396-4dea-ddc4-1c423ca93dba"
      },
      "execution_count": 12,
      "outputs": [
        {
          "output_type": "stream",
          "name": "stdout",
          "text": [
            "비교연산 - boolean masking\n",
            "[False  True  True  True  True]\n",
            "\n",
            "type <class 'numpy.ndarray'>\n",
            "shape (5,)\n",
            "dimension - 1\n",
            "dtype bool\n",
            "\n",
            "data -\n",
            " [False  True  True  True  True]\n"
          ]
        }
      ]
    },
    {
      "cell_type": "code",
      "source": [
        "print('논리 연산 - ')\n",
        "\n",
        "print((xAry == 2) | (yAry > 10))"
      ],
      "metadata": {
        "colab": {
          "base_uri": "https://localhost:8080/"
        },
        "id": "6YMlUVGL4Ssu",
        "outputId": "10c1f381-0256-4afe-b0de-9e497b74cc5d"
      },
      "execution_count": 13,
      "outputs": [
        {
          "output_type": "stream",
          "name": "stdout",
          "text": [
            "논리 연산 - \n",
            "[False  True  True  True  True]\n"
          ]
        }
      ]
    },
    {
      "cell_type": "markdown",
      "source": [
        "2차원 배열\n",
        "- N dimensional Array\n",
        "- 행렬\n",
        "- list of list\n",
        "- list of list of list"
      ],
      "metadata": {
        "id": "2AiUmQJRBsJ2"
      }
    },
    {
      "cell_type": "code",
      "source": [
        "print(\"2개의 행과 3개의 열을 갖는 배열을 만든다면?\")\n",
        "twoAry = np.array([[1,2,3,],[4,5,6]], dtype = np.float64)\n",
        "aryinfo(twoAry)\n",
        "\n",
        "print()\n",
        "print()\n",
        "print(\"len() -\")\n",
        "print(\"len() 행의 갯수 - \", len(twoAry))\n",
        "print(\"len() 행의 요소의 갯수, 즉 열을 의미한다 - \", len(twoAry[0]))\n",
        "print(\"len() 행의 요소의 갯수, 즉 열을 의미한다 -\", len(twoAry[1]))"
      ],
      "metadata": {
        "colab": {
          "base_uri": "https://localhost:8080/"
        },
        "id": "sgQmUeql4SvJ",
        "outputId": "3395cdde-70a4-4465-c010-414b6ac4550b"
      },
      "execution_count": 14,
      "outputs": [
        {
          "output_type": "stream",
          "name": "stdout",
          "text": [
            "2개의 행과 3개의 열을 갖는 배열을 만든다면?\n",
            "type <class 'numpy.ndarray'>\n",
            "shape (2, 3)\n",
            "dimension - 2\n",
            "dtype float64\n",
            "\n",
            "data -\n",
            " [[1. 2. 3.]\n",
            " [4. 5. 6.]]\n",
            "\n",
            "\n",
            "len() -\n",
            "len() 행의 갯수 -  2\n",
            "len() 행의 요소의 갯수, 즉 열을 의미한다 -  3\n",
            "len() 행의 요소의 갯수, 즉 열을 의미한다 - 3\n"
          ]
        }
      ]
    },
    {
      "cell_type": "code",
      "source": [
        "print('3차원 - 3 * 4 2개의 레이어 - ')\n",
        "threeAry = np.array([[[1,2,3,4],[5,6,7,8],[9,10,11,12]],[[13,14,15,16],[17,18,19,20],[21,22,23,24]]])\n",
        "\n",
        "print()\n",
        "aryinfo(threeAry)\n",
        "\n",
        "print()\n",
        "print(\"len() -depth\", len(threeAry))\n",
        "print('len() - ' , len(threeAry[0]))\n",
        "print('len() - ' , len(threeAry[1]))\n",
        "print('row col - ' , len(threeAry[0][0])) \n",
        "\n",
        "\n"
      ],
      "metadata": {
        "colab": {
          "base_uri": "https://localhost:8080/"
        },
        "id": "Ip7bsWob4Sxl",
        "outputId": "976c46c3-99c0-46cf-a7fb-2050390696a5"
      },
      "execution_count": 15,
      "outputs": [
        {
          "output_type": "stream",
          "name": "stdout",
          "text": [
            "3차원 - 3 * 4 2개의 레이어 - \n",
            "\n",
            "type <class 'numpy.ndarray'>\n",
            "shape (2, 3, 4)\n",
            "dimension - 3\n",
            "dtype int64\n",
            "\n",
            "data -\n",
            " [[[ 1  2  3  4]\n",
            "  [ 5  6  7  8]\n",
            "  [ 9 10 11 12]]\n",
            "\n",
            " [[13 14 15 16]\n",
            "  [17 18 19 20]\n",
            "  [21 22 23 24]]]\n",
            "\n",
            "len() -depth 2\n",
            "len() -  3\n",
            "len() -  3\n",
            "row col -  4\n"
          ]
        }
      ]
    },
    {
      "cell_type": "markdown",
      "source": [
        "- 요소의 타입을 변경할 때 사용하는 함수.astype()"
      ],
      "metadata": {
        "id": "HG4lULF2oJ5k"
      }
    },
    {
      "cell_type": "code",
      "source": [
        "typeChange = threeAry.astype(np.float64)\n",
        "aryinfo(typeChange)"
      ],
      "metadata": {
        "id": "ubaFWI3lDTXp",
        "colab": {
          "base_uri": "https://localhost:8080/"
        },
        "outputId": "e12f865b-ff63-4ca7-f957-31ea6aac6540"
      },
      "execution_count": 16,
      "outputs": [
        {
          "output_type": "stream",
          "name": "stdout",
          "text": [
            "type <class 'numpy.ndarray'>\n",
            "shape (2, 3, 4)\n",
            "dimension - 3\n",
            "dtype float64\n",
            "\n",
            "data -\n",
            " [[[ 1.  2.  3.  4.]\n",
            "  [ 5.  6.  7.  8.]\n",
            "  [ 9. 10. 11. 12.]]\n",
            "\n",
            " [[13. 14. 15. 16.]\n",
            "  [17. 18. 19. 20.]\n",
            "  [21. 22. 23. 24.]]]\n"
          ]
        }
      ]
    },
    {
      "cell_type": "markdown",
      "source": [
        "- 배열도 인덱싱과 슬라이싱이 가능하다."
      ],
      "metadata": {
        "id": "CXI3Lre7oZ_3"
      }
    },
    {
      "cell_type": "code",
      "source": [
        "idxAry = np.array([1,2,3,4,5,6,7,8,9])\n",
        "aryinfo(idxAry)"
      ],
      "metadata": {
        "id": "0aVHK1QcDTaE",
        "colab": {
          "base_uri": "https://localhost:8080/"
        },
        "outputId": "f137703a-d839-4605-8875-7feff962d488"
      },
      "execution_count": 17,
      "outputs": [
        {
          "output_type": "stream",
          "name": "stdout",
          "text": [
            "type <class 'numpy.ndarray'>\n",
            "shape (9,)\n",
            "dimension - 1\n",
            "dtype int64\n",
            "\n",
            "data -\n",
            " [1 2 3 4 5 6 7 8 9]\n"
          ]
        }
      ]
    },
    {
      "cell_type": "code",
      "source": [
        "print(\"indexing\")\n",
        "print(idxAry[0])\n",
        "print(idxAry[1])\n"
      ],
      "metadata": {
        "id": "XQVM_Qs-DTca",
        "colab": {
          "base_uri": "https://localhost:8080/"
        },
        "outputId": "df4fa08a-fbc9-455d-a573-ea8f293d643d"
      },
      "execution_count": 18,
      "outputs": [
        {
          "output_type": "stream",
          "name": "stdout",
          "text": [
            "indexing\n",
            "1\n",
            "2\n"
          ]
        }
      ]
    },
    {
      "cell_type": "code",
      "source": [
        "aryinfo(twoAry)"
      ],
      "metadata": {
        "id": "fZizm9veDTef",
        "colab": {
          "base_uri": "https://localhost:8080/"
        },
        "outputId": "501f9331-72b8-4152-aeba-cc931c298233"
      },
      "execution_count": 19,
      "outputs": [
        {
          "output_type": "stream",
          "name": "stdout",
          "text": [
            "type <class 'numpy.ndarray'>\n",
            "shape (2, 3)\n",
            "dimension - 2\n",
            "dtype float64\n",
            "\n",
            "data -\n",
            " [[1. 2. 3.]\n",
            " [4. 5. 6.]]\n"
          ]
        }
      ]
    },
    {
      "cell_type": "code",
      "source": [
        "print('첫번째 행의 첫번째 열의 값 - ') \n",
        "print(twoAry[0 , 0])\n",
        "\n",
        "print()\n",
        "print('마지막 행의 마지막 열 - ')\n",
        "print(twoAry[-1, -1])\n",
        "\n",
        "print()\n",
        "print('첫번째 행의 전체 - ')\n",
        "print(twoAry[0, : ])\n",
        "\n",
        "print()\n",
        "print('첫번째 행의 두번째부터 끝까지 - ')\n",
        "print(twoAry[0 , 1 : ])\n",
        "\n",
        "\n",
        "print()\n",
        "print('행이 아닌 y 축의 값을 구할 때 - ')\n",
        "print(twoAry[ : , 1])\n",
        "\n"
      ],
      "metadata": {
        "id": "1i0XCcNeDTgk",
        "colab": {
          "base_uri": "https://localhost:8080/"
        },
        "outputId": "702a974c-127d-4475-b74c-eb6dc35fe315"
      },
      "execution_count": 24,
      "outputs": [
        {
          "output_type": "stream",
          "name": "stdout",
          "text": [
            "첫번째 행의 첫번째 열의 값 - \n",
            "1.0\n",
            "\n",
            "마지막 행의 마지막 열 - \n",
            "6.0\n",
            "\n",
            "첫번째 행의 전체 - \n",
            "[1. 2. 3.]\n",
            "\n",
            "첫번째 행의 두번째부터 끝까지 - \n",
            "[2. 3.]\n",
            "\n",
            "행이 아닌 y 축의 값을 구할 때 - \n",
            "[2. 5.]\n"
          ]
        }
      ]
    },
    {
      "cell_type": "code",
      "source": [
        "matrixAry = np.array([[0,1,2,3,4],[5,6,7,8,9],[10,11,12,13,14]])\n",
        "aryinfo(matrixAry)"
      ],
      "metadata": {
        "id": "qkIPRwEmDTi7",
        "colab": {
          "base_uri": "https://localhost:8080/"
        },
        "outputId": "26e62227-b668-4fa4-e059-bd2608e980e4"
      },
      "execution_count": 25,
      "outputs": [
        {
          "output_type": "stream",
          "name": "stdout",
          "text": [
            "type <class 'numpy.ndarray'>\n",
            "shape (3, 5)\n",
            "dimension - 2\n",
            "dtype int64\n",
            "\n",
            "data -\n",
            " [[ 0  1  2  3  4]\n",
            " [ 5  6  7  8  9]\n",
            " [10 11 12 13 14]]\n"
          ]
        }
      ]
    },
    {
      "cell_type": "code",
      "source": [
        "'''\n",
        "요구사항 구현 [실습] - \n",
        "이 행렬에서 값 7 을 인덱싱한다.\n",
        "이 행렬에서 값 14 을 인덱싱한다.\n",
        "이 행렬에서 배열 [6, 7] 을 슬라이싱한다.\n",
        "이 행렬에서 배열 [7, 12] 을 슬라이싱한다.\n",
        "이 행렬에서 배열 [[3, 4], [8, 9]] 을 슬라이싱한다.\n",
        "'''"
      ],
      "metadata": {
        "id": "-b4ZDnAjDTlX"
      },
      "execution_count": null,
      "outputs": []
    },
    {
      "cell_type": "code",
      "source": [
        "print(matrixAry[1,2])\n",
        "print()\n",
        "print(matrixAry[-1,-1], matrixAry[2,4])\n",
        "print()\n",
        "print(matrixAry[1,1:3])\n",
        "print()\n",
        "print(matrixAry[1:,2])\n",
        "print()\n",
        "print(matrixAry[0:2,3:])"
      ],
      "metadata": {
        "id": "2eNaKB9kDTnV",
        "colab": {
          "base_uri": "https://localhost:8080/"
        },
        "outputId": "f6a031fd-fb83-46ed-e153-010ccc87e912"
      },
      "execution_count": 36,
      "outputs": [
        {
          "output_type": "stream",
          "name": "stdout",
          "text": [
            "7\n",
            "\n",
            "14 14\n",
            "\n",
            "[6 7]\n",
            "\n",
            "[ 7 12]\n",
            "\n",
            "[[3 4]\n",
            " [8 9]]\n"
          ]
        }
      ]
    },
    {
      "cell_type": "markdown",
      "source": [
        "#### fancy indexing\n",
        "- boolean indexing\n",
        "- 정수배열 indexing\n"
      ],
      "metadata": {
        "id": "XHxBZTHIqhx-"
      }
    },
    {
      "cell_type": "code",
      "source": [
        "ary = np.array([0,1,2,3,4,5,6,7,8,9])\n",
        "aryinfo(ary)"
      ],
      "metadata": {
        "id": "6a7DI3hbDTpz",
        "colab": {
          "base_uri": "https://localhost:8080/"
        },
        "outputId": "acd7322a-9b63-4232-e707-ad70b589239b"
      },
      "execution_count": 37,
      "outputs": [
        {
          "output_type": "stream",
          "name": "stdout",
          "text": [
            "type <class 'numpy.ndarray'>\n",
            "shape (10,)\n",
            "dimension - 1\n",
            "dtype int64\n",
            "\n",
            "data -\n",
            " [0 1 2 3 4 5 6 7 8 9]\n"
          ]
        }
      ]
    },
    {
      "cell_type": "code",
      "source": [
        "print(\"짝수의 원소를 골라내고싶다면?\")\n",
        "idx = np.array([True, False, True, False, True, False, True, False, True, False])\n",
        "print(ary[idx]) #짝수 인덱스에 트루값을 줘서 확인함\n",
        "\n",
        "print()\n",
        "print(ary[ary%2 == 0])\n",
        "\n",
        "print(\"정수배열 인덱싱으로 구현한다면\")\n",
        "\n",
        "oddidx = np.array([1,3,5,7,9])\n",
        "evenidx = np.array([0,2,4,6,8])\n",
        "\n",
        "print()\n",
        "\n",
        "print(ary[oddidx])\n",
        "print(ary[evenidx])\n"
      ],
      "metadata": {
        "id": "4TIi5WSIDTsM",
        "colab": {
          "base_uri": "https://localhost:8080/"
        },
        "outputId": "35b9be05-a9c5-4cb4-bffe-f109cb06cb43"
      },
      "execution_count": 41,
      "outputs": [
        {
          "output_type": "stream",
          "name": "stdout",
          "text": [
            "짝수의 원소를 골라내고싶다면?\n",
            "[0 2 4 6 8]\n",
            "\n",
            "[0 2 4 6 8]\n",
            "정수배열 인덱싱으로 구현한다면\n",
            "\n",
            "[1 3 5 7 9]\n",
            "[0 2 4 6 8]\n"
          ]
        }
      ]
    },
    {
      "cell_type": "code",
      "source": [
        "ary % 2"
      ],
      "metadata": {
        "id": "8OmrdYLkDTuP",
        "colab": {
          "base_uri": "https://localhost:8080/"
        },
        "outputId": "b445e735-4f76-4a21-970c-e4cac22fd6aa"
      },
      "execution_count": 42,
      "outputs": [
        {
          "output_type": "execute_result",
          "data": {
            "text/plain": [
              "array([0, 1, 0, 1, 0, 1, 0, 1, 0, 1])"
            ]
          },
          "metadata": {},
          "execution_count": 42
        }
      ]
    },
    {
      "cell_type": "code",
      "source": [
        "ary = np.array([1,2,3,4,5,6,7,8,9,10,11,12,13,14,15,16,17,18,19,20])\n",
        "aryinfo(ary)\n",
        "\n",
        "print()\n",
        "print(\"3의 배수를 출력\", ary[ary%3==0])\n",
        "print(\"4로 나누면 1이 남는 수를 출력\", ary[ary%4 ==1])\n",
        "print(\"3의배수이고 4로 나누면 1이 남는 수를 출력\", ary[(ary%4 ==1) & (ary%3 ==0)])\n"
      ],
      "metadata": {
        "id": "tNpbKaBeDTwl",
        "colab": {
          "base_uri": "https://localhost:8080/"
        },
        "outputId": "de4ea4c0-0352-4da3-fedd-183c63eb6ced"
      },
      "execution_count": 49,
      "outputs": [
        {
          "output_type": "stream",
          "name": "stdout",
          "text": [
            "type <class 'numpy.ndarray'>\n",
            "shape (20,)\n",
            "dimension - 1\n",
            "dtype int64\n",
            "\n",
            "data -\n",
            " [ 1  2  3  4  5  6  7  8  9 10 11 12 13 14 15 16 17 18 19 20]\n",
            "\n",
            "3의 배수를 출력 [ 3  6  9 12 15 18]\n",
            "4로 나누면 1이 남는 수를 출력 [ 1  5  9 13 17]\n",
            "3의배수이고 4로 나누면 1이 남는 수를 출력 [9]\n"
          ]
        }
      ]
    },
    {
      "cell_type": "markdown",
      "source": [
        "- dtype 지정할 자료형은 접두어\n",
        "- np.float54 -> f\n",
        "- np.int32 -> i\n",
        "- 문자열 U\n"
      ],
      "metadata": {
        "id": "334Ynojmsdan"
      }
    },
    {
      "cell_type": "code",
      "source": [
        "ary = np.array([1,2,3], dtype=\"i\")\n",
        "aryinfo(ary)"
      ],
      "metadata": {
        "id": "bMYmZONmDTys",
        "colab": {
          "base_uri": "https://localhost:8080/"
        },
        "outputId": "140ada95-52da-4787-8fdc-1ded06ad2a24"
      },
      "execution_count": 50,
      "outputs": [
        {
          "output_type": "stream",
          "name": "stdout",
          "text": [
            "type <class 'numpy.ndarray'>\n",
            "shape (3,)\n",
            "dimension - 1\n",
            "dtype int32\n",
            "\n",
            "data -\n",
            " [1 2 3]\n"
          ]
        }
      ]
    },
    {
      "cell_type": "markdown",
      "source": [
        "- arange()"
      ],
      "metadata": {
        "id": "Ogt9khHhs0Cf"
      }
    },
    {
      "cell_type": "code",
      "source": [
        "ary = np.arange(0,12,1).reshape(3,4)\n",
        "aryinfo(ary)"
      ],
      "metadata": {
        "id": "OMr8oT14DT1J",
        "colab": {
          "base_uri": "https://localhost:8080/"
        },
        "outputId": "220dfdbc-088d-4c01-e81d-b49ca72d8fe2"
      },
      "execution_count": 51,
      "outputs": [
        {
          "output_type": "stream",
          "name": "stdout",
          "text": [
            "type <class 'numpy.ndarray'>\n",
            "shape (3, 4)\n",
            "dimension - 2\n",
            "dtype int64\n",
            "\n",
            "data -\n",
            " [[ 0  1  2  3]\n",
            " [ 4  5  6  7]\n",
            " [ 8  9 10 11]]\n"
          ]
        }
      ]
    },
    {
      "cell_type": "code",
      "source": [
        "'''\n",
        "아래 결과를 출력하도록 실습\n",
        "\n",
        "indxing :  10\n",
        "slicing : [6]\n",
        "slicing : [[5]]\n",
        "fancy indexing : [2 10] \n",
        "fancy indexing : [[2] [10] ]\n",
        "fancy indexing : [[0 2] [4 6] [8 10] ]\n",
        "'''"
      ],
      "metadata": {
        "id": "UQiOQWZ2DT3n"
      },
      "execution_count": 16,
      "outputs": []
    },
    {
      "cell_type": "code",
      "source": [
        "print(\"indexing : \", ary[2,2])\n",
        "print(\"slicing :\",ary[1:2,2])\n",
        "print(\"slicing :\",ary[1:2,1:2])\n",
        "\n",
        "idx = [0,2]\n",
        "print(\"fancy indexing\", ary[idx,2])\n",
        "print(\"fancy indexing\", ary[idx,2:3])\n",
        "print(\"fancy indexing\", ary[:,idx])\n",
        "\n"
      ],
      "metadata": {
        "id": "J84kN37LDT5r",
        "colab": {
          "base_uri": "https://localhost:8080/"
        },
        "outputId": "165dcccb-663a-4dc6-8c52-4a367387a3fc"
      },
      "execution_count": 63,
      "outputs": [
        {
          "output_type": "stream",
          "name": "stdout",
          "text": [
            "indexing :  10\n",
            "slicing : [6]\n",
            "slicing : [[5]]\n",
            "fancy indexing [ 2 10]\n",
            "fancy indexing [[ 2]\n",
            " [10]]\n",
            "fancy indexing [[ 0  2]\n",
            " [ 4  6]\n",
            " [ 8 10]]\n"
          ]
        }
      ]
    },
    {
      "cell_type": "markdown",
      "source": [
        "#### 배열 생성 함수\n",
        "- array()\n",
        "- zeros(), ones(), zeros_like(), ones_like(), empty(), arange(), linspace(), logspace()"
      ],
      "metadata": {
        "id": "RA2a5dmuunwR"
      }
    },
    {
      "cell_type": "code",
      "source": [
        "print(\"1차원\")\n",
        "zeroary = np.zeros(5, dtype=\"i\")\n",
        "aryinfo(zeroary)\n",
        "\n",
        "print()\n",
        "print(\"2차원\")\n",
        "zeroary = np.zeros((3,4), dtype=\"i\")\n",
        "aryinfo(zeroary)\n",
        "\n",
        "print(\"3차원\")\n",
        "zeroary = np.zeros((3,3,4), dtype= \"i\")\n",
        "aryinfo(zeroary)"
      ],
      "metadata": {
        "colab": {
          "base_uri": "https://localhost:8080/"
        },
        "id": "0K8Upjy5s7t9",
        "outputId": "f2cc1794-7db0-401e-f061-fb6ef1efe19d"
      },
      "execution_count": 67,
      "outputs": [
        {
          "output_type": "stream",
          "name": "stdout",
          "text": [
            "1차원\n",
            "type <class 'numpy.ndarray'>\n",
            "shape (5,)\n",
            "dimension - 1\n",
            "dtype int32\n",
            "\n",
            "data -\n",
            " [0 0 0 0 0]\n",
            "\n",
            "2차원\n",
            "type <class 'numpy.ndarray'>\n",
            "shape (3, 4)\n",
            "dimension - 2\n",
            "dtype int32\n",
            "\n",
            "data -\n",
            " [[0 0 0 0]\n",
            " [0 0 0 0]\n",
            " [0 0 0 0]]\n",
            "3차원\n",
            "type <class 'numpy.ndarray'>\n",
            "shape (3, 3, 4)\n",
            "dimension - 3\n",
            "dtype int32\n",
            "\n",
            "data -\n",
            " [[[0 0 0 0]\n",
            "  [0 0 0 0]\n",
            "  [0 0 0 0]]\n",
            "\n",
            " [[0 0 0 0]\n",
            "  [0 0 0 0]\n",
            "  [0 0 0 0]]\n",
            "\n",
            " [[0 0 0 0]\n",
            "  [0 0 0 0]\n",
            "  [0 0 0 0]]]\n"
          ]
        }
      ]
    },
    {
      "cell_type": "code",
      "source": [
        "ary = np.zeros(5, dtype=\"<U4\")\n",
        "aryinfo(ary)"
      ],
      "metadata": {
        "colab": {
          "base_uri": "https://localhost:8080/"
        },
        "id": "rW5ZEcxOs7xo",
        "outputId": "0d86be7b-dafe-4b7f-c44c-e4a2b20ba618"
      },
      "execution_count": 69,
      "outputs": [
        {
          "output_type": "stream",
          "name": "stdout",
          "text": [
            "type <class 'numpy.ndarray'>\n",
            "shape (5,)\n",
            "dimension - 1\n",
            "dtype <U4\n",
            "\n",
            "data -\n",
            " ['' '' '' '' '']\n"
          ]
        }
      ]
    },
    {
      "cell_type": "code",
      "source": [
        "ary[0] = \"abc\"\n",
        "ary[1] = \"oys\"\n",
        "ary[2] = \"abcd\"\n"
      ],
      "metadata": {
        "id": "wQPi1MpOs71X"
      },
      "execution_count": 70,
      "outputs": []
    },
    {
      "cell_type": "code",
      "source": [
        "ary"
      ],
      "metadata": {
        "colab": {
          "base_uri": "https://localhost:8080/"
        },
        "id": "qJhxJV9Ys75P",
        "outputId": "8200d203-2d48-4b73-f56c-81b6f91b32e7"
      },
      "execution_count": 71,
      "outputs": [
        {
          "output_type": "execute_result",
          "data": {
            "text/plain": [
              "array(['abc', 'oys', 'abcd', '', ''], dtype='<U4')"
            ]
          },
          "metadata": {},
          "execution_count": 71
        }
      ]
    },
    {
      "cell_type": "code",
      "source": [
        "print(\"1차원\")\n",
        "oneary = np.ones(5, dtype=\"i\")\n",
        "aryinfo(oneary)"
      ],
      "metadata": {
        "colab": {
          "base_uri": "https://localhost:8080/"
        },
        "id": "RbcVBzKXs78T",
        "outputId": "f151f19e-98d4-42f1-9315-ac482e7d63dc"
      },
      "execution_count": 72,
      "outputs": [
        {
          "output_type": "stream",
          "name": "stdout",
          "text": [
            "1차원\n",
            "type <class 'numpy.ndarray'>\n",
            "shape (5,)\n",
            "dimension - 1\n",
            "dtype int32\n",
            "\n",
            "data -\n",
            " [1 1 1 1 1]\n"
          ]
        }
      ]
    },
    {
      "cell_type": "code",
      "source": [
        "print(\"1차원 -\")\n",
        "oneary = np.ones(5, dtype=\"U\")\n",
        "aryinfo(oneary)\n",
        "print()\n",
        "\n",
        "print(\"2차원\")\n",
        "oneary = np.ones((3,4), dtype =\"i\")\n",
        "aryinfo(oneary)\n",
        "\n",
        "print(\"3차원\")\n",
        "oneary = np.ones((3,3,4),dtype = \"i\")\n",
        "aryinfo(oneary)"
      ],
      "metadata": {
        "colab": {
          "base_uri": "https://localhost:8080/"
        },
        "id": "dzX2UBRKs7_H",
        "outputId": "04fca5b8-0799-415f-b476-081bd1389259"
      },
      "execution_count": 74,
      "outputs": [
        {
          "output_type": "stream",
          "name": "stdout",
          "text": [
            "1차원 -\n",
            "type <class 'numpy.ndarray'>\n",
            "shape (5,)\n",
            "dimension - 1\n",
            "dtype <U1\n",
            "\n",
            "data -\n",
            " ['1' '1' '1' '1' '1']\n",
            "\n",
            "2차원\n",
            "type <class 'numpy.ndarray'>\n",
            "shape (3, 4)\n",
            "dimension - 2\n",
            "dtype int32\n",
            "\n",
            "data -\n",
            " [[1 1 1 1]\n",
            " [1 1 1 1]\n",
            " [1 1 1 1]]\n",
            "3차원\n",
            "type <class 'numpy.ndarray'>\n",
            "shape (3, 3, 4)\n",
            "dimension - 3\n",
            "dtype int32\n",
            "\n",
            "data -\n",
            " [[[1 1 1 1]\n",
            "  [1 1 1 1]\n",
            "  [1 1 1 1]]\n",
            "\n",
            " [[1 1 1 1]\n",
            "  [1 1 1 1]\n",
            "  [1 1 1 1]]\n",
            "\n",
            " [[1 1 1 1]\n",
            "  [1 1 1 1]\n",
            "  [1 1 1 1]]]\n"
          ]
        }
      ]
    },
    {
      "cell_type": "code",
      "source": [
        "o_likeary = np.ones_like(oneary, dtype =\"U\")\n",
        "aryinfo(o_likeary)"
      ],
      "metadata": {
        "id": "3ihZTcwqDT8F",
        "colab": {
          "base_uri": "https://localhost:8080/"
        },
        "outputId": "146e2b43-8db8-4719-a8fd-3b4048905616"
      },
      "execution_count": 76,
      "outputs": [
        {
          "output_type": "stream",
          "name": "stdout",
          "text": [
            "type <class 'numpy.ndarray'>\n",
            "shape (3, 3, 4)\n",
            "dimension - 3\n",
            "dtype <U1\n",
            "\n",
            "data -\n",
            " [[['1' '1' '1' '1']\n",
            "  ['1' '1' '1' '1']\n",
            "  ['1' '1' '1' '1']]\n",
            "\n",
            " [['1' '1' '1' '1']\n",
            "  ['1' '1' '1' '1']\n",
            "  ['1' '1' '1' '1']]\n",
            "\n",
            " [['1' '1' '1' '1']\n",
            "  ['1' '1' '1' '1']\n",
            "  ['1' '1' '1' '1']]]\n"
          ]
        }
      ]
    },
    {
      "cell_type": "code",
      "source": [
        "emptyary = np.empty((4,3))\n",
        "aryinfo(emptyary)"
      ],
      "metadata": {
        "id": "4DgRzTq-DT-L",
        "colab": {
          "base_uri": "https://localhost:8080/"
        },
        "outputId": "482f0574-6417-4535-b461-60433086d5e6"
      },
      "execution_count": 77,
      "outputs": [
        {
          "output_type": "stream",
          "name": "stdout",
          "text": [
            "type <class 'numpy.ndarray'>\n",
            "shape (4, 3)\n",
            "dimension - 2\n",
            "dtype float64\n",
            "\n",
            "data -\n",
            " [[0.0e+000 4.9e-324 9.9e-324]\n",
            " [1.5e-323 2.0e-323 2.5e-323]\n",
            " [3.0e-323 3.5e-323 4.0e-323]\n",
            " [4.4e-323 4.9e-323 5.4e-323]]\n"
          ]
        }
      ]
    },
    {
      "cell_type": "code",
      "source": [
        "np.arange(10,20,2)"
      ],
      "metadata": {
        "colab": {
          "base_uri": "https://localhost:8080/"
        },
        "id": "6R4O3tW-wwJE",
        "outputId": "8c698158-7285-4e5c-c057-a20196788af0"
      },
      "execution_count": 78,
      "outputs": [
        {
          "output_type": "execute_result",
          "data": {
            "text/plain": [
              "array([10, 12, 14, 16, 18])"
            ]
          },
          "metadata": {},
          "execution_count": 78
        }
      ]
    },
    {
      "cell_type": "code",
      "source": [
        "np.linspace(1,10,4)"
      ],
      "metadata": {
        "colab": {
          "base_uri": "https://localhost:8080/"
        },
        "id": "9A6ppZ4HwwLZ",
        "outputId": "88e9384a-69ff-4e00-d0c1-27730bfe54a1"
      },
      "execution_count": 80,
      "outputs": [
        {
          "output_type": "execute_result",
          "data": {
            "text/plain": [
              "array([ 1.,  4.,  7., 10.])"
            ]
          },
          "metadata": {},
          "execution_count": 80
        }
      ]
    },
    {
      "cell_type": "code",
      "source": [
        "np.arange(0,10,1).reshape(5,2)\n"
      ],
      "metadata": {
        "colab": {
          "base_uri": "https://localhost:8080/"
        },
        "id": "QsLdVpU7wwOK",
        "outputId": "2d40cdf6-e174-47f6-ebec-73ae12c2d446"
      },
      "execution_count": 83,
      "outputs": [
        {
          "output_type": "execute_result",
          "data": {
            "text/plain": [
              "array([[0, 1],\n",
              "       [2, 3],\n",
              "       [4, 5],\n",
              "       [6, 7],\n",
              "       [8, 9]])"
            ]
          },
          "metadata": {},
          "execution_count": 83
        }
      ]
    },
    {
      "cell_type": "markdown",
      "source": [
        "- 전치행렬 ->transpose matrix 행렬의 행은 열로, 열은 행으로 바꿔주는 행렬"
      ],
      "metadata": {
        "id": "F68-4OH7x2lC"
      }
    },
    {
      "cell_type": "code",
      "source": [
        "ary = np.array([[1,2,3],[4,5,6]])\n",
        "aryinfo(ary)"
      ],
      "metadata": {
        "colab": {
          "base_uri": "https://localhost:8080/"
        },
        "id": "mLDjMabewwQh",
        "outputId": "c888d3d7-e380-4f81-d617-e5cff0d2bb6b"
      },
      "execution_count": 88,
      "outputs": [
        {
          "output_type": "stream",
          "name": "stdout",
          "text": [
            "type <class 'numpy.ndarray'>\n",
            "shape (2, 3)\n",
            "dimension - 2\n",
            "dtype int64\n",
            "\n",
            "data -\n",
            " [[1 2 3]\n",
            " [4 5 6]]\n"
          ]
        }
      ]
    },
    {
      "cell_type": "code",
      "source": [
        "ary = np.arange(1,7).reshape(2,3)\n",
        "aryinfo(ary)"
      ],
      "metadata": {
        "colab": {
          "base_uri": "https://localhost:8080/"
        },
        "id": "f-V1_DLxwwTp",
        "outputId": "ab17b157-108b-4a9a-8964-3ad01c166ec8"
      },
      "execution_count": 90,
      "outputs": [
        {
          "output_type": "stream",
          "name": "stdout",
          "text": [
            "type <class 'numpy.ndarray'>\n",
            "shape (2, 3)\n",
            "dimension - 2\n",
            "dtype int64\n",
            "\n",
            "data -\n",
            " [[1 2 3]\n",
            " [4 5 6]]\n"
          ]
        }
      ]
    },
    {
      "cell_type": "code",
      "source": [
        "ary_transpose = ary.T\n",
        "aryinfo(ary_transpose)"
      ],
      "metadata": {
        "id": "1AhciKd34Sz_",
        "colab": {
          "base_uri": "https://localhost:8080/"
        },
        "outputId": "3055bb42-ba18-47b7-c109-8c388067bf3a"
      },
      "execution_count": 91,
      "outputs": [
        {
          "output_type": "stream",
          "name": "stdout",
          "text": [
            "type <class 'numpy.ndarray'>\n",
            "shape (3, 2)\n",
            "dimension - 2\n",
            "dtype int64\n",
            "\n",
            "data -\n",
            " [[1 4]\n",
            " [2 5]\n",
            " [3 6]]\n"
          ]
        }
      ]
    },
    {
      "cell_type": "code",
      "source": [
        "vec = np.arange(10)\n",
        "aryinfo(vec)\n",
        "\n",
        "print()\n",
        "print('1차원 배열에 대한 전치연산은 가능할까? - ' , vec.T)\n",
        "print('안된다...그런데 방법이 있을까? - ')# 2차원으로 바꿔버리고 뒤집어 버리기~\n",
        "print()\n",
        "\n",
        "vec_transpose = vec.reshape(1, 10 ).T\n",
        "aryinfo(vec_transpose)"
      ],
      "metadata": {
        "id": "0GgBpfKp4S2E",
        "colab": {
          "base_uri": "https://localhost:8080/"
        },
        "outputId": "a138b038-86b7-40d5-aac7-55d7dbf6c406"
      },
      "execution_count": 94,
      "outputs": [
        {
          "output_type": "stream",
          "name": "stdout",
          "text": [
            "type <class 'numpy.ndarray'>\n",
            "shape (10,)\n",
            "dimension - 1\n",
            "dtype int64\n",
            "\n",
            "data -\n",
            " [0 1 2 3 4 5 6 7 8 9]\n",
            "\n",
            "1차원 배열에 대한 전치연산은 가능할까? -  [0 1 2 3 4 5 6 7 8 9]\n",
            "안된다...그런데 방법이 있을까? - \n",
            "\n",
            "type <class 'numpy.ndarray'>\n",
            "shape (10, 1)\n",
            "dimension - 2\n",
            "dtype int64\n",
            "\n",
            "data -\n",
            " [[0]\n",
            " [1]\n",
            " [2]\n",
            " [3]\n",
            " [4]\n",
            " [5]\n",
            " [6]\n",
            " [7]\n",
            " [8]\n",
            " [9]]\n"
          ]
        }
      ]
    },
    {
      "cell_type": "markdown",
      "source": [
        "#### 다차원 배열을 1차원으로 만들어야 한다면????\n",
        "- flatten()"
      ],
      "metadata": {
        "id": "0CRpuQXlymC_"
      }
    },
    {
      "cell_type": "code",
      "source": [
        "vec_transpose.flatten()\n",
        "# 차원에 대한 주의가 필요하다."
      ],
      "metadata": {
        "colab": {
          "base_uri": "https://localhost:8080/"
        },
        "id": "paoGW5JFymyh",
        "outputId": "3ee90d64-2e33-4ca4-8ffc-ebd99c4c87fa"
      },
      "execution_count": 97,
      "outputs": [
        {
          "output_type": "execute_result",
          "data": {
            "text/plain": [
              "array([0, 1, 2, 3, 4, 5, 6, 7, 8, 9])"
            ]
          },
          "metadata": {},
          "execution_count": 97
        }
      ]
    },
    {
      "cell_type": "code",
      "source": [
        "ary = np.arange(10)\n",
        "aryinfo(ary.reshape(1,10))\n",
        "aryinfo(ary.reshape(10,1))\n",
        "\n",
        "print()\n",
        "print(\"reshape이 아닌 차원증가를 위해서는 :new axis를 사용함\")\n",
        "\n",
        "aryinfo(ary[:,np.newaxis])\n",
        "aryinfo(ary[np.newaxis,:])"
      ],
      "metadata": {
        "colab": {
          "base_uri": "https://localhost:8080/"
        },
        "id": "U2vJveKyym1V",
        "outputId": "9b7fb517-2ece-4412-9f23-84b277eb2c91"
      },
      "execution_count": 107,
      "outputs": [
        {
          "output_type": "stream",
          "name": "stdout",
          "text": [
            "type <class 'numpy.ndarray'>\n",
            "shape (1, 10)\n",
            "dimension - 2\n",
            "dtype int64\n",
            "\n",
            "data -\n",
            " [[0 1 2 3 4 5 6 7 8 9]]\n",
            "type <class 'numpy.ndarray'>\n",
            "shape (10, 1)\n",
            "dimension - 2\n",
            "dtype int64\n",
            "\n",
            "data -\n",
            " [[0]\n",
            " [1]\n",
            " [2]\n",
            " [3]\n",
            " [4]\n",
            " [5]\n",
            " [6]\n",
            " [7]\n",
            " [8]\n",
            " [9]]\n",
            "\n",
            "reshape이 아닌 차원증가를 위해서는 :new axis를 사용함\n",
            "type <class 'numpy.ndarray'>\n",
            "shape (10, 1)\n",
            "dimension - 2\n",
            "dtype int64\n",
            "\n",
            "data -\n",
            " [[0]\n",
            " [1]\n",
            " [2]\n",
            " [3]\n",
            " [4]\n",
            " [5]\n",
            " [6]\n",
            " [7]\n",
            " [8]\n",
            " [9]]\n",
            "type <class 'numpy.ndarray'>\n",
            "shape (1, 10)\n",
            "dimension - 2\n",
            "dtype int64\n",
            "\n",
            "data -\n",
            " [[0 1 2 3 4 5 6 7 8 9]]\n"
          ]
        }
      ]
    },
    {
      "cell_type": "markdown",
      "source": [
        "- ndarray(배열) 모든 원소에 대해서 순차적으로 접근해야 한다면???\n",
        "- iternext(), finished"
      ],
      "metadata": {
        "id": "BT8EWU260B4f"
      }
    },
    {
      "cell_type": "code",
      "source": [
        "ary = np.arange(10)\n",
        "ary"
      ],
      "metadata": {
        "colab": {
          "base_uri": "https://localhost:8080/"
        },
        "id": "rcxqiw5Tym5x",
        "outputId": "64f6e439-46a4-45b7-c222-915246c002fd"
      },
      "execution_count": 108,
      "outputs": [
        {
          "output_type": "execute_result",
          "data": {
            "text/plain": [
              "array([0, 1, 2, 3, 4, 5, 6, 7, 8, 9])"
            ]
          },
          "metadata": {},
          "execution_count": 108
        }
      ]
    },
    {
      "cell_type": "code",
      "source": [
        "for tmp in ary:\n",
        "  print(tmp, end=\"\\t\")\n",
        "  "
      ],
      "metadata": {
        "colab": {
          "base_uri": "https://localhost:8080/"
        },
        "id": "ZA8w7TSTym8L",
        "outputId": "a829f7f4-1967-4e21-858d-415653ba0332"
      },
      "execution_count": 111,
      "outputs": [
        {
          "output_type": "stream",
          "name": "stdout",
          "text": [
            "0\t1\t2\t3\t4\t5\t6\t7\t8\t9\t"
          ]
        }
      ]
    },
    {
      "cell_type": "code",
      "source": [
        "print(\"1차원 ndarray에 대한 iterator- \")\n",
        "\n",
        "\n",
        "ite = np.nditer(ary, flags = [\"c_index\"])\n",
        "\n",
        "while not ite.finished:\n",
        "  idx = ite.index\n",
        "  print(\"idx\", idx, ary[idx])\n",
        "  ite.iternext()\n"
      ],
      "metadata": {
        "colab": {
          "base_uri": "https://localhost:8080/"
        },
        "id": "JpQqB6x1ym-R",
        "outputId": "008132cf-981a-4ab9-ad20-20307d243994"
      },
      "execution_count": 116,
      "outputs": [
        {
          "output_type": "stream",
          "name": "stdout",
          "text": [
            "1차원 ndarray에 대한 iterator- \n",
            "idx 0 0\n",
            "idx 1 1\n",
            "idx 2 2\n",
            "idx 3 3\n",
            "idx 4 4\n",
            "idx 5 5\n",
            "idx 6 6\n",
            "idx 7 7\n",
            "idx 8 8\n",
            "idx 9 9\n"
          ]
        }
      ]
    },
    {
      "cell_type": "code",
      "source": [
        "ary_reshape = ary.reshape(2,5)\n",
        "ary_reshape"
      ],
      "metadata": {
        "colab": {
          "base_uri": "https://localhost:8080/"
        },
        "id": "69VOlJKcynAo",
        "outputId": "fb3769c3-e1b5-4f70-b9a1-f850ff082d84"
      },
      "execution_count": 117,
      "outputs": [
        {
          "output_type": "execute_result",
          "data": {
            "text/plain": [
              "array([[0, 1, 2, 3, 4],\n",
              "       [5, 6, 7, 8, 9]])"
            ]
          },
          "metadata": {},
          "execution_count": 117
        }
      ]
    },
    {
      "cell_type": "code",
      "source": [
        "print('shape - ' , ary_reshape.shape)\n",
        "print('row   - ' , ary_reshape.shape[0])\n",
        "print('col   - ' , ary_reshape.shape[1])"
      ],
      "metadata": {
        "colab": {
          "base_uri": "https://localhost:8080/"
        },
        "id": "Hd2y7xZpynCv",
        "outputId": "ac4999cc-70b2-4ac1-d472-d4f88c2701a9"
      },
      "execution_count": 118,
      "outputs": [
        {
          "output_type": "stream",
          "name": "stdout",
          "text": [
            "shape -  (2, 5)\n",
            "row   -  2\n",
            "col   -  5\n"
          ]
        }
      ]
    },
    {
      "cell_type": "code",
      "source": [
        "for row in range(ary_reshape.shape[0]):\n",
        "  for col in range(ary_reshape.shape[1]):\n",
        "    print(ary_reshape[row][col], end = \"\\t\")\n",
        "  print()\n",
        "\n",
        "print()\n",
        "\n",
        "#for문으로 돌려도 되는데 \n",
        "#while 끝나기전까지 주구장창 돈다라고 하면\n",
        "# 끝까지 돌고 나와서 확인함.\n",
        "ite = np.nditer(ary_reshape, flags = [\"multi_index\"])\n",
        "while not ite.finished:\n",
        "  idx = ite.multi_index\n",
        "  print(ary_reshape[idx], idx ,end=\"\\t\")\n",
        "  ite.iternext()"
      ],
      "metadata": {
        "colab": {
          "base_uri": "https://localhost:8080/"
        },
        "id": "W_S5kZwIynEd",
        "outputId": "037300f4-2bbe-4100-c4f3-69a405534054"
      },
      "execution_count": 133,
      "outputs": [
        {
          "output_type": "stream",
          "name": "stdout",
          "text": [
            "0\t1\t2\t3\t4\t\n",
            "5\t6\t7\t8\t9\t\n",
            "\n",
            "0 (0, 0)\t1 (0, 1)\t2 (0, 2)\t3 (0, 3)\t4 (0, 4)\t5 (1, 0)\t6 (1, 1)\t7 (1, 2)\t8 (1, 3)\t9 (1, 4)\t"
          ]
        }
      ]
    },
    {
      "cell_type": "code",
      "source": [],
      "metadata": {
        "colab": {
          "base_uri": "https://localhost:8080/",
          "height": 137
        },
        "id": "QZtFdaUn2Zes",
        "outputId": "3fb8ff68-555e-4641-a310-4a5618e7cc77"
      },
      "execution_count": 134,
      "outputs": [
        {
          "output_type": "error",
          "ename": "SyntaxError",
          "evalue": "ignored",
          "traceback": [
            "\u001b[0;36m  File \u001b[0;32m\"<ipython-input-134-cdea89f33e20>\"\u001b[0;36m, line \u001b[0;32m1\u001b[0m\n\u001b[0;31m    git push -u origin master\u001b[0m\n\u001b[0m        ^\u001b[0m\n\u001b[0;31mSyntaxError\u001b[0m\u001b[0;31m:\u001b[0m invalid syntax\n"
          ]
        }
      ]
    }
  ]
}