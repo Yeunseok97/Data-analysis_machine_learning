{
  "nbformat": 4,
  "nbformat_minor": 0,
  "metadata": {
    "colab": {
      "provenance": [],
      "authorship_tag": "ABX9TyP4yQ2KEuDkQ5VeB4lYGd/j",
      "include_colab_link": true
    },
    "kernelspec": {
      "name": "python3",
      "display_name": "Python 3"
    },
    "language_info": {
      "name": "python"
    }
  },
  "cells": [
    {
      "cell_type": "markdown",
      "metadata": {
        "id": "view-in-github",
        "colab_type": "text"
      },
      "source": [
        "<a href=\"https://colab.research.google.com/github/Yeunseok97/Data-analysis_machine_learning/blob/main/numpy_review3.ipynb\" target=\"_parent\"><img src=\"https://colab.research.google.com/assets/colab-badge.svg\" alt=\"Open In Colab\"/></a>"
      ]
    },
    {
      "cell_type": "markdown",
      "source": [
        "#### 기술 통계 함수관련, 데이터 샘플링, 난수발생에 대한 이해\n",
        "\n",
        "- 데이터 갯수 - len\n",
        "- 평균 == 표본평균(통계) - mean\n",
        "- 분산 == 표본분산(통계) - var\n",
        "- 표준편차 - std\n",
        "- 최대값\n",
        "- 최소값\n",
        "- 중앙값 - median\n",
        "- 사분위수 - percentile"
      ],
      "metadata": {
        "id": "_t12pCPsIyxS"
      }
    },
    {
      "cell_type": "code",
      "source": [
        "import numpy as np \n",
        "from IPython.display import Image\n",
        "\n",
        "def aryinfo(ary) :\n",
        "    print('type - ' , type(ary))\n",
        "    print('shape - ' , ary.shape)\n",
        "    print('dimension - ' , ary.ndim)\n",
        "    print('dtype - ' , ary.dtype)\n",
        "    print()\n",
        "    print('data - \\n' , ary)"
      ],
      "metadata": {
        "id": "DYjQO6KuIv6a"
      },
      "execution_count": 2,
      "outputs": []
    },
    {
      "cell_type": "code",
      "source": [
        "ary = np.array([18, 5, 10, 23, 19, -8, 10, 0, 0, 5, 2, 15, 8, 2, 5, 4, 15, -1, 4, 7, 9])\n",
        "aryinfo(ary)"
      ],
      "metadata": {
        "colab": {
          "base_uri": "https://localhost:8080/"
        },
        "id": "2w_N6x6zIv8y",
        "outputId": "f230b119-aeff-414e-e0ae-54b2bcc7f535"
      },
      "execution_count": 3,
      "outputs": [
        {
          "output_type": "stream",
          "name": "stdout",
          "text": [
            "type -  <class 'numpy.ndarray'>\n",
            "shape -  (21,)\n",
            "dimension -  1\n",
            "dtype -  int64\n",
            "\n",
            "data - \n",
            " [18  5 10 23 19 -8 10  0  0  5  2 15  8  2  5  4 15 -1  4  7  9]\n"
          ]
        }
      ]
    },
    {
      "cell_type": "code",
      "source": [
        "print(np.mean(ary))\n",
        "print(np.std(ary))\n",
        "print(np.max(ary))\n",
        "print(np.min(ary))\n",
        "print(np.median(ary))\n",
        "print(np.var(ary))"
      ],
      "metadata": {
        "colab": {
          "base_uri": "https://localhost:8080/"
        },
        "id": "3Iag0ZadIv-2",
        "outputId": "585c991f-58fc-4d52-8b4b-254e9f481156"
      },
      "execution_count": 10,
      "outputs": [
        {
          "output_type": "stream",
          "name": "stdout",
          "text": [
            "7.238095238095238\n",
            "7.360801987262774\n",
            "23\n",
            "-8\n",
            "5.0\n",
            "54.181405895691604\n"
          ]
        }
      ]
    },
    {
      "cell_type": "code",
      "source": [
        "print('최소값     - ' , np.percentile(ary, 0))\n",
        "print('1사분위 값 - ' , np.percentile(ary, 25))\n",
        "print('2사분위 값 - ' , np.percentile(ary, 50))\n",
        "print('3사분위 값 - ' , np.percentile(ary, 75))\n",
        "print('최대값     - ' , np.percentile(ary, 100))\n"
      ],
      "metadata": {
        "colab": {
          "base_uri": "https://localhost:8080/"
        },
        "id": "OBcJ4WPAIwBT",
        "outputId": "eff67dee-8fa5-4e23-d6fa-2806cac07714"
      },
      "execution_count": 5,
      "outputs": [
        {
          "output_type": "stream",
          "name": "stdout",
          "text": [
            "최소값     -  -8.0\n",
            "1사분위 값 -  2.0\n",
            "2사분위 값 -  5.0\n",
            "3사분위 값 -  10.0\n",
            "최대값     -  23.0\n"
          ]
        }
      ]
    },
    {
      "cell_type": "code",
      "source": [
        "np.random.rand(10)"
      ],
      "metadata": {
        "colab": {
          "base_uri": "https://localhost:8080/"
        },
        "id": "qSApzzADIwDr",
        "outputId": "d274401f-62da-4bb7-b818-2f8fa79575c3"
      },
      "execution_count": 11,
      "outputs": [
        {
          "output_type": "execute_result",
          "data": {
            "text/plain": [
              "array([0.36435792, 0.22621071, 0.3869706 , 0.89839942, 0.2232522 ,\n",
              "       0.28969869, 0.52440399, 0.29019779, 0.55813091, 0.65174968])"
            ]
          },
          "metadata": {},
          "execution_count": 11
        }
      ]
    },
    {
      "cell_type": "code",
      "source": [
        "np.random.rand(3,5,2)"
      ],
      "metadata": {
        "colab": {
          "base_uri": "https://localhost:8080/"
        },
        "id": "sCtBZngvIwFv",
        "outputId": "5e918836-739a-4231-afd2-fd39df5341ca"
      },
      "execution_count": 13,
      "outputs": [
        {
          "output_type": "execute_result",
          "data": {
            "text/plain": [
              "array([[[0.90749874, 0.28608491],\n",
              "        [0.03648808, 0.76631472],\n",
              "        [0.50299392, 0.80055693],\n",
              "        [0.92814474, 0.52795301],\n",
              "        [0.25108542, 0.713603  ]],\n",
              "\n",
              "       [[0.60923842, 0.40689676],\n",
              "        [0.48130494, 0.24145197],\n",
              "        [0.6699093 , 0.43838293],\n",
              "        [0.18362234, 0.2048992 ],\n",
              "        [0.92821588, 0.40770559]],\n",
              "\n",
              "       [[0.40243654, 0.66791171],\n",
              "        [0.3711043 , 0.39521206],\n",
              "        [0.20969043, 0.23110808],\n",
              "        [0.0265415 , 0.94189343],\n",
              "        [0.8783183 , 0.57262291]]])"
            ]
          },
          "metadata": {},
          "execution_count": 13
        }
      ]
    },
    {
      "cell_type": "code",
      "source": [],
      "metadata": {
        "id": "Q899jP_gIwIe"
      },
      "execution_count": 1,
      "outputs": []
    },
    {
      "cell_type": "markdown",
      "source": [
        "- 데이터 샘플링\n",
        "- np.random.choice(Ary, size, replace =T|F, p)"
      ],
      "metadata": {
        "id": "ZKRJey4sJbK6"
      }
    },
    {
      "cell_type": "code",
      "source": [
        "np.random.choice(100, 10, replace= False)"
      ],
      "metadata": {
        "colab": {
          "base_uri": "https://localhost:8080/"
        },
        "id": "L9G6ujnhIwKe",
        "outputId": "2b4e8c2f-91dd-427b-899a-cd48c00dcfec"
      },
      "execution_count": 14,
      "outputs": [
        {
          "output_type": "execute_result",
          "data": {
            "text/plain": [
              "array([ 6, 76, 26, 50, 17, 46, 56, 20, 47, 25])"
            ]
          },
          "metadata": {},
          "execution_count": 14
        }
      ]
    },
    {
      "cell_type": "code",
      "source": [
        "np.random.choice(5,10, p = [0.1,0,0.3,0.6, 0])"
      ],
      "metadata": {
        "colab": {
          "base_uri": "https://localhost:8080/"
        },
        "id": "_RJiKSKaIwM6",
        "outputId": "a0d4b1d1-c788-43dd-db25-2e9595de56c0"
      },
      "execution_count": 15,
      "outputs": [
        {
          "output_type": "execute_result",
          "data": {
            "text/plain": [
              "array([2, 2, 2, 3, 2, 2, 3, 2, 3, 3])"
            ]
          },
          "metadata": {},
          "execution_count": 15
        }
      ]
    },
    {
      "cell_type": "code",
      "source": [
        "coin = np.random.choice(2, 20, replace = True)\n",
        "print(coin)\n",
        "print()\n",
        "coin = np.random.randint(0,2,20)\n",
        "print(coin)"
      ],
      "metadata": {
        "colab": {
          "base_uri": "https://localhost:8080/"
        },
        "id": "BNk9QyzSIwPY",
        "outputId": "2c940d22-4a13-4542-a9e3-a0cf74499c12"
      },
      "execution_count": 16,
      "outputs": [
        {
          "output_type": "stream",
          "name": "stdout",
          "text": [
            "[1 0 1 1 1 0 0 1 1 0 0 0 0 1 1 0 1 1 1 1]\n",
            "\n",
            "[1 0 1 0 1 0 0 0 1 0 1 1 1 1 0 1 1 1 0 1]\n"
          ]
        }
      ]
    },
    {
      "cell_type": "code",
      "source": [
        "dice= np.random.choice(np.arange(1,7), 100, replace = True)\n",
        "print(dice)\n",
        "print()\n",
        "print(np.mean(dice))\n",
        "print()\n",
        "dice1 = np.random.randint(1, 7, size = (1, 100))\n",
        "print(\"dice -\", dice1)\n",
        "print()\n",
        "print(\"dice mean - \", np.mean(dice1))"
      ],
      "metadata": {
        "colab": {
          "base_uri": "https://localhost:8080/"
        },
        "id": "s-iyBmQvIwRx",
        "outputId": "30fcda98-270d-45db-8103-d06cc1e221b2"
      },
      "execution_count": 17,
      "outputs": [
        {
          "output_type": "stream",
          "name": "stdout",
          "text": [
            "[2 5 4 3 6 2 2 3 4 4 3 3 6 6 2 6 4 5 5 5 3 5 2 5 6 5 2 3 4 5 5 3 3 3 1 5 3\n",
            " 1 5 3 2 3 5 6 3 4 1 6 2 6 5 3 5 4 6 2 1 4 2 3 3 5 6 4 6 1 2 5 3 1 4 3 1 3\n",
            " 6 2 5 5 4 5 6 4 4 1 6 1 5 6 6 6 5 1 4 6 1 1 2 2 6 5]\n",
            "\n",
            "3.77\n",
            "\n",
            "dice - [[4 2 5 4 1 6 5 2 2 1 3 6 1 5 1 6 6 2 4 1 2 4 6 2 3 4 3 3 2 2 6 1 2 6 2 2\n",
            "  6 2 4 6 4 2 4 6 5 5 1 2 3 3 6 2 1 4 2 5 1 1 6 6 2 6 6 4 4 4 6 6 6 5 6 3\n",
            "  6 2 3 1 5 3 4 1 4 4 6 1 5 1 4 1 2 1 4 1 4 2 4 4 5 1 3 2]]\n",
            "\n",
            "dice mean -  3.46\n"
          ]
        }
      ]
    },
    {
      "cell_type": "code",
      "source": [
        "price = 10000\n",
        "stock = price + price * np.random.randn(250)/ 100\n",
        "print(stock)"
      ],
      "metadata": {
        "colab": {
          "base_uri": "https://localhost:8080/"
        },
        "id": "_uMKiwjlIwUN",
        "outputId": "e1abe0c0-e275-4c14-a5d0-1fa9ae3dc2b7"
      },
      "execution_count": 18,
      "outputs": [
        {
          "output_type": "stream",
          "name": "stdout",
          "text": [
            "[10061.98028901  9905.40043943 10153.94265037 10016.23172598\n",
            " 10014.07809194  9953.45008465  9921.90231102  9902.65690777\n",
            " 10068.56127449 10046.00056623  9947.13805445  9919.62344364\n",
            "  9927.22583874  9951.16313656  9730.5102812  10019.56003533\n",
            "  9939.34203157  9968.57657716 10001.04126207  9922.46998094\n",
            "  9898.19490933  9868.9840665  10044.23785728  9907.24093684\n",
            " 10025.3315852   9929.62581794 10013.64314925 10060.57840422\n",
            " 10111.0839831   9901.72229692  9950.48586598 10106.13857918\n",
            "  9831.21067478 10096.18313735 10125.97905241  9995.13831019\n",
            "  9951.87227731  9970.92315783 10054.7907425   9864.75166996\n",
            "  9934.09258572 10006.41734995  9934.37460175 10147.5395688\n",
            " 10051.16836394 10043.84153879 10138.76580298 10088.41452167\n",
            "  9995.03443706  9951.62767017  9937.20873046  9893.8342731\n",
            "  9819.45294544 10024.77710411 10198.38164431  9987.33590291\n",
            "  9939.7594993  10138.79468671 10159.5038545  10056.90180555\n",
            " 10134.60311469 10051.19122054 10026.66921236 10005.60661095\n",
            "  9985.37911408 10189.16567002 10027.76989903  9756.50690758\n",
            " 10022.46213703 10011.77936113 10029.62196941  9959.26925243\n",
            "  9926.33038551 10134.78854133 10192.02580473 10069.94150959\n",
            "  9929.36085582 10070.66589113  9967.09811203 10006.06296396\n",
            " 10068.42699431 10035.65521367  9928.81774636  9969.3444579\n",
            " 10224.01438095  9876.66637597  9874.37952773 10024.79381012\n",
            "  9921.22062537  9925.25491144  9978.24810241 10064.11552935\n",
            " 10016.01042378 10061.09782892  9993.2359693  10168.71202184\n",
            "  9938.58998379 10021.95746634  9998.7603393   9936.70204818\n",
            " 10011.60783974  9929.39695123  9981.2656006  10118.19956775\n",
            " 10069.74874544 10101.99222857  9877.20403635 10153.00616986\n",
            "  9852.23820767 10040.32686365  9901.68135608 10090.55084453\n",
            "  9992.14071253  9973.41399467  9915.68344468 10038.7787366\n",
            " 10049.9146254  10141.08708057 10125.42340831 10030.86688971\n",
            " 10021.52801169  9970.66505502 10002.01990039 10009.22969053\n",
            "  9950.52843013  9988.35806026  9851.4038325  10158.62946309\n",
            "  9995.04119582  9942.44724624 10078.893624    9944.69872221\n",
            " 10086.95577173 10020.86331358  9914.57831578 10125.90361137\n",
            " 10074.31779969 10170.85375893 10087.80919634 10037.54007922\n",
            " 10011.8024972  10013.7186821  10024.45686667  9990.0386564\n",
            " 10045.20708291  9999.88647208 10066.74407213  9979.58156526\n",
            " 10003.78574985 10089.44370756 10102.7431084  10117.94639954\n",
            " 10135.36996655 10035.11052789 10049.95978296 10010.64006155\n",
            "  9997.46461425 10084.71027161  9984.32824985  9927.8864938\n",
            " 10042.43965746 10155.63831298 10053.78653368  9989.63206942\n",
            " 10027.58388545 10014.79070654 10087.82470607  9903.24975286\n",
            "  9873.64730264  9913.13592216 10009.85104311  9884.8193418\n",
            " 10019.59829082  9950.86215225  9891.64387146  9957.09295043\n",
            "  9908.36526458 10032.01425154  9870.49798945  9908.32041722\n",
            "  9934.45467292  9938.18894832 10149.45547045 10227.66609447\n",
            "  9761.64599603 10088.95054573  9924.83670599  9918.72135545\n",
            " 10190.23448492 10177.88903068  9948.99045823 10057.94229272\n",
            "  9940.1810722  10009.82507647 10061.02568394  9832.76199542\n",
            "  9950.4589845   9975.72571854 10061.7720883   9994.57126146\n",
            "  9990.0361496  10039.14426417 10077.72421885  9956.76066157\n",
            " 10060.61726392 10178.69671242  9849.2206204  10081.90973187\n",
            " 10042.61627017 10114.6976793  10086.94858475  9814.32671796\n",
            " 10124.76445872  9996.94544127 10299.5001153  10079.65736209\n",
            " 10020.45659414 10113.94669742  9912.56725829  9897.67088003\n",
            "  9891.80687977  9943.92100433 10095.50667381  9993.52619602\n",
            "  9827.61814998  9994.88891356  9990.60219311  9965.09432985\n",
            " 10142.95973824  9990.8476636   9740.14367586  9915.28654753\n",
            " 10131.9039434   9982.22301598  9980.27603802 10144.49322983\n",
            "  9938.19747404  9843.40212718  9993.53263999 10058.44352236\n",
            " 10057.60899172  9912.27557591  9845.62534055  9886.68145073\n",
            " 10060.12338847 10029.85054209 10056.71352132 10024.42797535\n",
            " 10181.61365821 10001.42274627]\n"
          ]
        }
      ]
    },
    {
      "cell_type": "code",
      "source": [
        "import matplotlib.pyplot as plt\n",
        "plt.hist(stock)\n",
        "plt.show"
      ],
      "metadata": {
        "colab": {
          "base_uri": "https://localhost:8080/",
          "height": 448
        },
        "id": "sPT3pz9VIwWq",
        "outputId": "56dfb7c8-38e6-4568-9566-88639a2a73ed"
      },
      "execution_count": 19,
      "outputs": [
        {
          "output_type": "execute_result",
          "data": {
            "text/plain": [
              "<function matplotlib.pyplot.show(close=None, block=None)>"
            ]
          },
          "metadata": {},
          "execution_count": 19
        },
        {
          "output_type": "display_data",
          "data": {
            "text/plain": [
              "<Figure size 640x480 with 1 Axes>"
            ],
            "image/png": "[encoded data removed]"
          },
          "metadata": {}
        }
      ]
    },
    {
      "cell_type": "code",
      "source": [],
      "metadata": {
        "id": "iQAGX4v1IwYx"
      },
      "execution_count": 1,
      "outputs": []
    },
    {
      "cell_type": "code",
      "source": [],
      "metadata": {
        "id": "yODJcCtVIwbg"
      },
      "execution_count": 1,
      "outputs": []
    },
    {
      "cell_type": "code",
      "source": [],
      "metadata": {
        "id": "W5i6vNJBIwd_"
      },
      "execution_count": 1,
      "outputs": []
    },
    {
      "cell_type": "code",
      "source": [],
      "metadata": {
        "id": "eE2-RzeLIwgX"
      },
      "execution_count": 1,
      "outputs": []
    },
    {
      "cell_type": "code",
      "source": [],
      "metadata": {
        "id": "86aGGTGeIwiy"
      },
      "execution_count": 1,
      "outputs": []
    },
    {
      "cell_type": "code",
      "source": [],
      "metadata": {
        "id": "57ZmkNxEIwlL"
      },
      "execution_count": 1,
      "outputs": []
    },
    {
      "cell_type": "code",
      "source": [],
      "metadata": {
        "id": "hSJA0ow8Iwno"
      },
      "execution_count": 1,
      "outputs": []
    },
    {
      "cell_type": "code",
      "source": [],
      "metadata": {
        "id": "NUyO98m3IwqA"
      },
      "execution_count": 1,
      "outputs": []
    },
    {
      "cell_type": "code",
      "source": [],
      "metadata": {
        "id": "bdsFCHOiIwsf"
      },
      "execution_count": 1,
      "outputs": []
    },
    {
      "cell_type": "code",
      "source": [],
      "metadata": {
        "id": "rv8scTCSIwu5"
      },
      "execution_count": 1,
      "outputs": []
    },
    {
      "cell_type": "code",
      "source": [],
      "metadata": {
        "id": "zCum-BLUIwxY"
      },
      "execution_count": 1,
      "outputs": []
    },
    {
      "cell_type": "code",
      "source": [],
      "metadata": {
        "id": "bJlyvDuzIwzz"
      },
      "execution_count": 1,
      "outputs": []
    },
    {
      "cell_type": "code",
      "source": [],
      "metadata": {
        "id": "T9G3hNe8Iw2e"
      },
      "execution_count": 1,
      "outputs": []
    },
    {
      "cell_type": "code",
      "source": [],
      "metadata": {
        "id": "hrKxVW53Iw4k"
      },
      "execution_count": 1,
      "outputs": []
    },
    {
      "cell_type": "code",
      "source": [],
      "metadata": {
        "id": "nqdqQGdkIw7F"
      },
      "execution_count": 1,
      "outputs": []
    },
    {
      "cell_type": "code",
      "source": [],
      "metadata": {
        "id": "W-p0b69gIw9f"
      },
      "execution_count": 1,
      "outputs": []
    },
    {
      "cell_type": "code",
      "source": [],
      "metadata": {
        "id": "5XfHIQKpIxAS"
      },
      "execution_count": 1,
      "outputs": []
    },
    {
      "cell_type": "code",
      "source": [],
      "metadata": {
        "id": "3SbV37rUIxCs"
      },
      "execution_count": 1,
      "outputs": []
    },
    {
      "cell_type": "code",
      "source": [],
      "metadata": {
        "id": "BHT80PLdIxFc"
      },
      "execution_count": 1,
      "outputs": []
    },
    {
      "cell_type": "code",
      "source": [],
      "metadata": {
        "id": "G-Ccdi-4IxH6"
      },
      "execution_count": 1,
      "outputs": []
    },
    {
      "cell_type": "code",
      "source": [],
      "metadata": {
        "id": "VnBkkf2DIxKq"
      },
      "execution_count": 1,
      "outputs": []
    },
    {
      "cell_type": "code",
      "source": [],
      "metadata": {
        "id": "yXNWGUtjIxNY"
      },
      "execution_count": 1,
      "outputs": []
    },
    {
      "cell_type": "code",
      "source": [],
      "metadata": {
        "id": "VCSKsDNiIxPv"
      },
      "execution_count": 1,
      "outputs": []
    },
    {
      "cell_type": "code",
      "source": [],
      "metadata": {
        "id": "NISo-pcjIxSH"
      },
      "execution_count": null,
      "outputs": []
    }
  ]
}